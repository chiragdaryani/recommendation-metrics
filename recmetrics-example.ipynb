{
 "cells": [
  {
   "cell_type": "code",
   "execution_count": null,
   "metadata": {},
   "outputs": [],
   "source": [
    "#BLOG: https://towardsdatascience.com/evaluation-metrics-for-recommender-systems-df56c6611093"
   ]
  },
  {
   "cell_type": "code",
   "execution_count": null,
   "metadata": {},
   "outputs": [],
   "source": [
    "#GitHub: https://github.com/statisticianinstilettos/recmetrics"
   ]
  },
  {
   "cell_type": "code",
   "execution_count": null,
   "metadata": {},
   "outputs": [],
   "source": []
  },
  {
   "cell_type": "markdown",
   "metadata": {},
   "source": [
    "# RecMetrics Example"
   ]
  },
  {
   "cell_type": "code",
   "execution_count": 2,
   "metadata": {},
   "outputs": [
    {
     "name": "stdout",
     "output_type": "stream",
     "text": [
      "Collecting surprise\n",
      "  Downloading surprise-0.1-py2.py3-none-any.whl (1.8 kB)\n",
      "Collecting scikit-surprise\n",
      "  Downloading scikit-surprise-1.1.3.tar.gz (771 kB)\n",
      "\u001b[2K     \u001b[90m━━━━━━━━━━━━━━━━━━━━━━━━━━━━━━━━━━━━━━━\u001b[0m \u001b[32m772.0/772.0 kB\u001b[0m \u001b[31m4.7 MB/s\u001b[0m eta \u001b[36m0:00:00\u001b[0m00:01\u001b[0m00:01\u001b[0m\n",
      "\u001b[?25h  Preparing metadata (setup.py) ... \u001b[?25l\\"
     ]
    }
   ],
   "source": [
    "!pip install surprise"
   ]
  },
  {
   "cell_type": "code",
   "execution_count": 4,
   "metadata": {},
   "outputs": [
    {
     "name": "stdout",
     "output_type": "stream",
     "text": [
      "Collecting plotly\n",
      "  Downloading plotly-5.11.0-py2.py3-none-any.whl (15.3 MB)\n",
      "\u001b[2K     \u001b[90m━━━━━━━━━━━━━━━━━━━━━━━━━━━━━━━━━━━━━━━━\u001b[0m \u001b[32m15.3/15.3 MB\u001b[0m \u001b[31m25.2 MB/s\u001b[0m eta \u001b[36m0:00:00\u001b[0m00:01\u001b[0m00:01\u001b[0m\n",
      "\u001b[?25hCollecting tenacity>=6.2.0\n",
      "  Downloading tenacity-8.1.0-py3-none-any.whl (23 kB)\n",
      "Installing collected packages: tenacity, plotly\n",
      "Successfully installed plotly-5.11.0 tenacity-8.1.0\n"
     ]
    }
   ],
   "source": [
    "!pip install plotly"
   ]
  },
  {
   "cell_type": "code",
   "execution_count": 6,
   "metadata": {},
   "outputs": [
    {
     "name": "stdout",
     "output_type": "stream",
     "text": [
      "Collecting seaborn\n",
      "  Downloading seaborn-0.12.2-py3-none-any.whl (293 kB)\n",
      "\u001b[2K     \u001b[90m━━━━━━━━━━━━━━━━━━━━━━━━━━━━━━━━━━━━━━━\u001b[0m \u001b[32m293.3/293.3 kB\u001b[0m \u001b[31m2.5 MB/s\u001b[0m eta \u001b[36m0:00:00\u001b[0ma \u001b[36m0:00:01\u001b[0m\n",
      "\u001b[?25hRequirement already satisfied: pandas>=0.25 in /Users/chirag/opt/miniconda3/envs/py38x64/lib/python3.8/site-packages (from seaborn) (1.5.2)\n",
      "Requirement already satisfied: matplotlib!=3.6.1,>=3.1 in /Users/chirag/opt/miniconda3/envs/py38x64/lib/python3.8/site-packages (from seaborn) (3.6.2)\n",
      "Requirement already satisfied: numpy!=1.24.0,>=1.17 in /Users/chirag/opt/miniconda3/envs/py38x64/lib/python3.8/site-packages (from seaborn) (1.24.1)\n",
      "Requirement already satisfied: kiwisolver>=1.0.1 in /Users/chirag/opt/miniconda3/envs/py38x64/lib/python3.8/site-packages (from matplotlib!=3.6.1,>=3.1->seaborn) (1.4.4)\n",
      "Requirement already satisfied: cycler>=0.10 in /Users/chirag/opt/miniconda3/envs/py38x64/lib/python3.8/site-packages (from matplotlib!=3.6.1,>=3.1->seaborn) (0.11.0)\n",
      "Requirement already satisfied: packaging>=20.0 in /Users/chirag/opt/miniconda3/envs/py38x64/lib/python3.8/site-packages (from matplotlib!=3.6.1,>=3.1->seaborn) (22.0)\n",
      "Requirement already satisfied: pillow>=6.2.0 in /Users/chirag/opt/miniconda3/envs/py38x64/lib/python3.8/site-packages (from matplotlib!=3.6.1,>=3.1->seaborn) (9.3.0)\n",
      "Requirement already satisfied: python-dateutil>=2.7 in /Users/chirag/opt/miniconda3/envs/py38x64/lib/python3.8/site-packages (from matplotlib!=3.6.1,>=3.1->seaborn) (2.8.2)\n",
      "Requirement already satisfied: pyparsing>=2.2.1 in /Users/chirag/opt/miniconda3/envs/py38x64/lib/python3.8/site-packages (from matplotlib!=3.6.1,>=3.1->seaborn) (3.0.9)\n",
      "Requirement already satisfied: contourpy>=1.0.1 in /Users/chirag/opt/miniconda3/envs/py38x64/lib/python3.8/site-packages (from matplotlib!=3.6.1,>=3.1->seaborn) (1.0.6)\n",
      "Requirement already satisfied: fonttools>=4.22.0 in /Users/chirag/opt/miniconda3/envs/py38x64/lib/python3.8/site-packages (from matplotlib!=3.6.1,>=3.1->seaborn) (4.38.0)\n",
      "Requirement already satisfied: pytz>=2020.1 in /Users/chirag/opt/miniconda3/envs/py38x64/lib/python3.8/site-packages (from pandas>=0.25->seaborn) (2022.7)\n",
      "Requirement already satisfied: six>=1.5 in /Users/chirag/opt/miniconda3/envs/py38x64/lib/python3.8/site-packages (from python-dateutil>=2.7->matplotlib!=3.6.1,>=3.1->seaborn) (1.16.0)\n",
      "Installing collected packages: seaborn\n",
      "Successfully installed seaborn-0.12.2\n"
     ]
    }
   ],
   "source": [
    "!pip install seaborn"
   ]
  },
  {
   "cell_type": "code",
   "execution_count": 8,
   "metadata": {},
   "outputs": [
    {
     "name": "stdout",
     "output_type": "stream",
     "text": [
      "Collecting funcsigs\n",
      "  Downloading funcsigs-1.0.2-py2.py3-none-any.whl (17 kB)\n",
      "Installing collected packages: funcsigs\n",
      "Successfully installed funcsigs-1.0.2\n"
     ]
    }
   ],
   "source": [
    "!pip install funcsigs"
   ]
  },
  {
   "cell_type": "code",
   "execution_count": null,
   "metadata": {},
   "outputs": [],
   "source": [
    "!pip install recmetrics"
   ]
  },
  {
   "cell_type": "code",
   "execution_count": 1,
   "metadata": {
    "collapsed": false,
    "pycharm": {
     "name": "#%%\n"
    }
   },
   "outputs": [],
   "source": [
    "import matplotlib.pyplot as plt\n",
    "import numpy as np\n",
    "import pandas as pd\n",
    "from surprise import SVD, Dataset, Reader\n",
    "from surprise.model_selection import train_test_split\n",
    "import recmetrics"
   ]
  },
  {
   "cell_type": "markdown",
   "metadata": {
    "collapsed": false,
    "pycharm": {
     "name": "#%% md\n"
    }
   },
   "source": [
    "# MovieLense Dataset\n",
    "Using the MovieLens 20M Dataset dataset for examples. You can download this data [here](https://grouplens.org/datasets/movielens/20m/)."
   ]
  },
  {
   "cell_type": "code",
   "execution_count": 2,
   "metadata": {
    "collapsed": false,
    "pycharm": {
     "name": "#%%\n"
    }
   },
   "outputs": [],
   "source": [
    "ratings = pd.read_csv('./ml-20m/ratings.csv')\n",
    "ratings = ratings.query('rating >=3')\n",
    "ratings.reset_index(drop=True, inplace=True)"
   ]
  },
  {
   "cell_type": "code",
   "execution_count": 3,
   "metadata": {
    "collapsed": false,
    "pycharm": {
     "name": "#%%\n"
    }
   },
   "outputs": [],
   "source": [
    "#only consider ratings from users who have rated over n movies\n",
    "n=1000\n",
    "users = ratings[\"userId\"].value_counts()\n",
    "users = users[users>n].index.tolist()"
   ]
  },
  {
   "cell_type": "code",
   "execution_count": 4,
   "metadata": {
    "collapsed": false,
    "pycharm": {
     "name": "#%%\n"
    }
   },
   "outputs": [
    {
     "name": "stdout",
     "output_type": "stream",
     "text": [
      "(1317902, 4)\n"
     ]
    },
    {
     "data": {
      "text/html": [
       "<div>\n",
       "<style scoped>\n",
       "    .dataframe tbody tr th:only-of-type {\n",
       "        vertical-align: middle;\n",
       "    }\n",
       "\n",
       "    .dataframe tbody tr th {\n",
       "        vertical-align: top;\n",
       "    }\n",
       "\n",
       "    .dataframe thead th {\n",
       "        text-align: right;\n",
       "    }\n",
       "</style>\n",
       "<table border=\"1\" class=\"dataframe\">\n",
       "  <thead>\n",
       "    <tr style=\"text-align: right;\">\n",
       "      <th></th>\n",
       "      <th>userId</th>\n",
       "      <th>movieId</th>\n",
       "      <th>rating</th>\n",
       "      <th>timestamp</th>\n",
       "    </tr>\n",
       "  </thead>\n",
       "  <tbody>\n",
       "    <tr>\n",
       "      <th>15918</th>\n",
       "      <td>156</td>\n",
       "      <td>1</td>\n",
       "      <td>5.0</td>\n",
       "      <td>1037739266</td>\n",
       "    </tr>\n",
       "    <tr>\n",
       "      <th>15919</th>\n",
       "      <td>156</td>\n",
       "      <td>2</td>\n",
       "      <td>5.0</td>\n",
       "      <td>1040937649</td>\n",
       "    </tr>\n",
       "    <tr>\n",
       "      <th>15920</th>\n",
       "      <td>156</td>\n",
       "      <td>4</td>\n",
       "      <td>3.0</td>\n",
       "      <td>1038801803</td>\n",
       "    </tr>\n",
       "  </tbody>\n",
       "</table>\n",
       "</div>"
      ],
      "text/plain": [
       "       userId  movieId  rating   timestamp\n",
       "15918     156        1     5.0  1037739266\n",
       "15919     156        2     5.0  1040937649\n",
       "15920     156        4     3.0  1038801803"
      ]
     },
     "execution_count": 4,
     "metadata": {},
     "output_type": "execute_result"
    }
   ],
   "source": [
    "ratings = ratings.query('userId in @users')\n",
    "print(ratings.shape)\n",
    "ratings.head(3)"
   ]
  },
  {
   "cell_type": "markdown",
   "metadata": {
    "collapsed": false,
    "pycharm": {
     "name": "#%% md\n"
    }
   },
   "source": [
    "## Get movie features"
   ]
  },
  {
   "cell_type": "code",
   "execution_count": 6,
   "metadata": {
    "collapsed": false,
    "pycharm": {
     "name": "#%%\n"
    }
   },
   "outputs": [
    {
     "data": {
      "text/html": [
       "<div>\n",
       "<style scoped>\n",
       "    .dataframe tbody tr th:only-of-type {\n",
       "        vertical-align: middle;\n",
       "    }\n",
       "\n",
       "    .dataframe tbody tr th {\n",
       "        vertical-align: top;\n",
       "    }\n",
       "\n",
       "    .dataframe thead th {\n",
       "        text-align: right;\n",
       "    }\n",
       "</style>\n",
       "<table border=\"1\" class=\"dataframe\">\n",
       "  <thead>\n",
       "    <tr style=\"text-align: right;\">\n",
       "      <th></th>\n",
       "      <th>(no genres listed)</th>\n",
       "      <th>Action</th>\n",
       "      <th>Adventure</th>\n",
       "      <th>Animation</th>\n",
       "      <th>Children</th>\n",
       "      <th>Comedy</th>\n",
       "      <th>Crime</th>\n",
       "      <th>Documentary</th>\n",
       "      <th>Drama</th>\n",
       "      <th>Fantasy</th>\n",
       "      <th>Film-Noir</th>\n",
       "      <th>Horror</th>\n",
       "      <th>IMAX</th>\n",
       "      <th>Musical</th>\n",
       "      <th>Mystery</th>\n",
       "      <th>Romance</th>\n",
       "      <th>Sci-Fi</th>\n",
       "      <th>Thriller</th>\n",
       "      <th>War</th>\n",
       "      <th>Western</th>\n",
       "    </tr>\n",
       "    <tr>\n",
       "      <th>movieId</th>\n",
       "      <th></th>\n",
       "      <th></th>\n",
       "      <th></th>\n",
       "      <th></th>\n",
       "      <th></th>\n",
       "      <th></th>\n",
       "      <th></th>\n",
       "      <th></th>\n",
       "      <th></th>\n",
       "      <th></th>\n",
       "      <th></th>\n",
       "      <th></th>\n",
       "      <th></th>\n",
       "      <th></th>\n",
       "      <th></th>\n",
       "      <th></th>\n",
       "      <th></th>\n",
       "      <th></th>\n",
       "      <th></th>\n",
       "      <th></th>\n",
       "    </tr>\n",
       "  </thead>\n",
       "  <tbody>\n",
       "    <tr>\n",
       "      <th>1</th>\n",
       "      <td>0</td>\n",
       "      <td>0</td>\n",
       "      <td>1</td>\n",
       "      <td>0</td>\n",
       "      <td>0</td>\n",
       "      <td>0</td>\n",
       "      <td>0</td>\n",
       "      <td>0</td>\n",
       "      <td>0</td>\n",
       "      <td>0</td>\n",
       "      <td>0</td>\n",
       "      <td>0</td>\n",
       "      <td>0</td>\n",
       "      <td>0</td>\n",
       "      <td>0</td>\n",
       "      <td>0</td>\n",
       "      <td>0</td>\n",
       "      <td>0</td>\n",
       "      <td>0</td>\n",
       "      <td>0</td>\n",
       "    </tr>\n",
       "    <tr>\n",
       "      <th>2</th>\n",
       "      <td>0</td>\n",
       "      <td>0</td>\n",
       "      <td>1</td>\n",
       "      <td>0</td>\n",
       "      <td>0</td>\n",
       "      <td>0</td>\n",
       "      <td>0</td>\n",
       "      <td>0</td>\n",
       "      <td>0</td>\n",
       "      <td>0</td>\n",
       "      <td>0</td>\n",
       "      <td>0</td>\n",
       "      <td>0</td>\n",
       "      <td>0</td>\n",
       "      <td>0</td>\n",
       "      <td>0</td>\n",
       "      <td>0</td>\n",
       "      <td>0</td>\n",
       "      <td>0</td>\n",
       "      <td>0</td>\n",
       "    </tr>\n",
       "    <tr>\n",
       "      <th>3</th>\n",
       "      <td>0</td>\n",
       "      <td>0</td>\n",
       "      <td>0</td>\n",
       "      <td>0</td>\n",
       "      <td>0</td>\n",
       "      <td>1</td>\n",
       "      <td>0</td>\n",
       "      <td>0</td>\n",
       "      <td>0</td>\n",
       "      <td>0</td>\n",
       "      <td>0</td>\n",
       "      <td>0</td>\n",
       "      <td>0</td>\n",
       "      <td>0</td>\n",
       "      <td>0</td>\n",
       "      <td>0</td>\n",
       "      <td>0</td>\n",
       "      <td>0</td>\n",
       "      <td>0</td>\n",
       "      <td>0</td>\n",
       "    </tr>\n",
       "    <tr>\n",
       "      <th>4</th>\n",
       "      <td>0</td>\n",
       "      <td>0</td>\n",
       "      <td>0</td>\n",
       "      <td>0</td>\n",
       "      <td>0</td>\n",
       "      <td>1</td>\n",
       "      <td>0</td>\n",
       "      <td>0</td>\n",
       "      <td>0</td>\n",
       "      <td>0</td>\n",
       "      <td>0</td>\n",
       "      <td>0</td>\n",
       "      <td>0</td>\n",
       "      <td>0</td>\n",
       "      <td>0</td>\n",
       "      <td>0</td>\n",
       "      <td>0</td>\n",
       "      <td>0</td>\n",
       "      <td>0</td>\n",
       "      <td>0</td>\n",
       "    </tr>\n",
       "    <tr>\n",
       "      <th>5</th>\n",
       "      <td>0</td>\n",
       "      <td>0</td>\n",
       "      <td>0</td>\n",
       "      <td>0</td>\n",
       "      <td>0</td>\n",
       "      <td>1</td>\n",
       "      <td>0</td>\n",
       "      <td>0</td>\n",
       "      <td>0</td>\n",
       "      <td>0</td>\n",
       "      <td>0</td>\n",
       "      <td>0</td>\n",
       "      <td>0</td>\n",
       "      <td>0</td>\n",
       "      <td>0</td>\n",
       "      <td>0</td>\n",
       "      <td>0</td>\n",
       "      <td>0</td>\n",
       "      <td>0</td>\n",
       "      <td>0</td>\n",
       "    </tr>\n",
       "  </tbody>\n",
       "</table>\n",
       "</div>"
      ],
      "text/plain": [
       "         (no genres listed)  Action  Adventure  Animation  Children  Comedy  \\\n",
       "movieId                                                                       \n",
       "1                         0       0          1          0         0       0   \n",
       "2                         0       0          1          0         0       0   \n",
       "3                         0       0          0          0         0       1   \n",
       "4                         0       0          0          0         0       1   \n",
       "5                         0       0          0          0         0       1   \n",
       "\n",
       "         Crime  Documentary  Drama  Fantasy  Film-Noir  Horror  IMAX  Musical  \\\n",
       "movieId                                                                         \n",
       "1            0            0      0        0          0       0     0        0   \n",
       "2            0            0      0        0          0       0     0        0   \n",
       "3            0            0      0        0          0       0     0        0   \n",
       "4            0            0      0        0          0       0     0        0   \n",
       "5            0            0      0        0          0       0     0        0   \n",
       "\n",
       "         Mystery  Romance  Sci-Fi  Thriller  War  Western  \n",
       "movieId                                                    \n",
       "1              0        0       0         0    0        0  \n",
       "2              0        0       0         0    0        0  \n",
       "3              0        0       0         0    0        0  \n",
       "4              0        0       0         0    0        0  \n",
       "5              0        0       0         0    0        0  "
      ]
     },
     "execution_count": 6,
     "metadata": {},
     "output_type": "execute_result"
    }
   ],
   "source": [
    "rated_movies = ratings[\"movieId\"].tolist()\n",
    "\n",
    "movies = pd.read_csv('./ml-20m/movies.csv')\n",
    "movies = movies.query('movieId in @rated_movies')\n",
    "movies.set_index(\"movieId\", inplace=True, drop=True)\n",
    "\n",
    "movies = movies[\"genres\"].str.split(\"|\", expand=True)\n",
    "movies.reset_index(inplace=True)\n",
    "movies = pd.melt(movies, id_vars='movieId', value_vars=[0, 1, 2, 3, 4, 5, 6, 7, 8, 9])\n",
    "\n",
    "movies.drop_duplicates(\"movieId\", inplace=True)\n",
    "movies.set_index('movieId', inplace=True)\n",
    "\n",
    "movies = pd.get_dummies(movies.value)\n",
    "movies.head()"
   ]
  },
  {
   "cell_type": "markdown",
   "metadata": {
    "collapsed": false,
    "pycharm": {
     "name": "#%% md\n"
    }
   },
   "source": [
    "## Long Tail Plot Example"
   ]
  },
  {
   "attachments": {},
   "cell_type": "markdown",
   "metadata": {},
   "source": [
    "The Long Tail plot is used to explore popularity patterns in user-item interaction data. Typically, a small number of items will make up most of the volume of interactions and this is referred to as the \"head\". The \"long tail\" typically consists of most products, but make up a small percent of interaction volume."
   ]
  },
  {
   "cell_type": "code",
   "execution_count": 7,
   "metadata": {},
   "outputs": [
    {
     "data": {
      "text/html": [
       "<div>\n",
       "<style scoped>\n",
       "    .dataframe tbody tr th:only-of-type {\n",
       "        vertical-align: middle;\n",
       "    }\n",
       "\n",
       "    .dataframe tbody tr th {\n",
       "        vertical-align: top;\n",
       "    }\n",
       "\n",
       "    .dataframe thead th {\n",
       "        text-align: right;\n",
       "    }\n",
       "</style>\n",
       "<table border=\"1\" class=\"dataframe\">\n",
       "  <thead>\n",
       "    <tr style=\"text-align: right;\">\n",
       "      <th></th>\n",
       "      <th>userId</th>\n",
       "      <th>movieId</th>\n",
       "      <th>rating</th>\n",
       "      <th>timestamp</th>\n",
       "    </tr>\n",
       "  </thead>\n",
       "  <tbody>\n",
       "    <tr>\n",
       "      <th>15918</th>\n",
       "      <td>156</td>\n",
       "      <td>1</td>\n",
       "      <td>5.0</td>\n",
       "      <td>1037739266</td>\n",
       "    </tr>\n",
       "    <tr>\n",
       "      <th>15919</th>\n",
       "      <td>156</td>\n",
       "      <td>2</td>\n",
       "      <td>5.0</td>\n",
       "      <td>1040937649</td>\n",
       "    </tr>\n",
       "    <tr>\n",
       "      <th>15920</th>\n",
       "      <td>156</td>\n",
       "      <td>4</td>\n",
       "      <td>3.0</td>\n",
       "      <td>1038801803</td>\n",
       "    </tr>\n",
       "    <tr>\n",
       "      <th>15921</th>\n",
       "      <td>156</td>\n",
       "      <td>5</td>\n",
       "      <td>3.0</td>\n",
       "      <td>1040944583</td>\n",
       "    </tr>\n",
       "    <tr>\n",
       "      <th>15922</th>\n",
       "      <td>156</td>\n",
       "      <td>6</td>\n",
       "      <td>4.0</td>\n",
       "      <td>1037822117</td>\n",
       "    </tr>\n",
       "    <tr>\n",
       "      <th>...</th>\n",
       "      <td>...</td>\n",
       "      <td>...</td>\n",
       "      <td>...</td>\n",
       "      <td>...</td>\n",
       "    </tr>\n",
       "    <tr>\n",
       "      <th>16469170</th>\n",
       "      <td>138325</td>\n",
       "      <td>93865</td>\n",
       "      <td>4.5</td>\n",
       "      <td>1352441167</td>\n",
       "    </tr>\n",
       "    <tr>\n",
       "      <th>16469171</th>\n",
       "      <td>138325</td>\n",
       "      <td>94896</td>\n",
       "      <td>4.0</td>\n",
       "      <td>1350349645</td>\n",
       "    </tr>\n",
       "    <tr>\n",
       "      <th>16469172</th>\n",
       "      <td>138325</td>\n",
       "      <td>96610</td>\n",
       "      <td>4.5</td>\n",
       "      <td>1350342435</td>\n",
       "    </tr>\n",
       "    <tr>\n",
       "      <th>16469173</th>\n",
       "      <td>138325</td>\n",
       "      <td>96737</td>\n",
       "      <td>4.5</td>\n",
       "      <td>1350342507</td>\n",
       "    </tr>\n",
       "    <tr>\n",
       "      <th>16469174</th>\n",
       "      <td>138325</td>\n",
       "      <td>96811</td>\n",
       "      <td>4.5</td>\n",
       "      <td>1350342238</td>\n",
       "    </tr>\n",
       "  </tbody>\n",
       "</table>\n",
       "<p>1317902 rows × 4 columns</p>\n",
       "</div>"
      ],
      "text/plain": [
       "          userId  movieId  rating   timestamp\n",
       "15918        156        1     5.0  1037739266\n",
       "15919        156        2     5.0  1040937649\n",
       "15920        156        4     3.0  1038801803\n",
       "15921        156        5     3.0  1040944583\n",
       "15922        156        6     4.0  1037822117\n",
       "...          ...      ...     ...         ...\n",
       "16469170  138325    93865     4.5  1352441167\n",
       "16469171  138325    94896     4.0  1350349645\n",
       "16469172  138325    96610     4.5  1350342435\n",
       "16469173  138325    96737     4.5  1350342507\n",
       "16469174  138325    96811     4.5  1350342238\n",
       "\n",
       "[1317902 rows x 4 columns]"
      ]
     },
     "execution_count": 7,
     "metadata": {},
     "output_type": "execute_result"
    }
   ],
   "source": [
    "ratings"
   ]
  },
  {
   "cell_type": "code",
   "execution_count": 8,
   "metadata": {
    "collapsed": false,
    "pycharm": {
     "name": "#%%\n"
    }
   },
   "outputs": [
    {
     "name": "stderr",
     "output_type": "stream",
     "text": [
      "/Users/chirag/opt/miniconda3/envs/py38x64/lib/python3.8/site-packages/seaborn/_decorators.py:36: FutureWarning: Pass the following variable as a keyword arg: x. From version 0.12, the only valid positional argument will be `data`, and passing other arguments without an explicit keyword will result in an error or misinterpretation.\n",
      "  warnings.warn(\n",
      "/Users/chirag/opt/miniconda3/envs/py38x64/lib/python3.8/site-packages/recmetrics/plots.py:60: FutureWarning: The frame.append method is deprecated and will be removed from pandas in a future version. Use pandas.concat instead.\n",
      "  head = head.append(tail.head(1))\n"
     ]
    },
    {
     "data": {
      "image/png": "[encoded data removed]",
      "text/plain": [
       "<Figure size 1500x700 with 1 Axes>"
      ]
     },
     "metadata": {},
     "output_type": "display_data"
    }
   ],
   "source": [
    "fig = plt.figure(figsize=(15, 7))\n",
    "\n",
    "recmetrics.long_tail_plot(df=ratings, \n",
    "             item_id_column=\"movieId\", \n",
    "             interaction_type=\"movie ratings\", \n",
    "             percentage=0.5,\n",
    "             x_labels=False)"
   ]
  },
  {
   "attachments": {},
   "cell_type": "markdown",
   "metadata": {},
   "source": [
    "The items in the \"long tail\" usually do not have enough interactions to accurately be recommended using user-based recommender systems like collaborative filtering due to inherent popularity bias in these models and data sparsity. Many recommender systems require a certain level of sparsity to train. A good recommender must balance sparsity requirements with popularity bias."
   ]
  },
  {
   "cell_type": "code",
   "execution_count": null,
   "metadata": {},
   "outputs": [],
   "source": []
  },
  {
   "cell_type": "markdown",
   "metadata": {
    "collapsed": false,
    "pycharm": {
     "name": "#%% md\n"
    }
   },
   "source": [
    "# Collaborative Filter Recommender\n",
    "Creating a simple CF to demonstrate recommender metrics in action. I've implemented collaborative filtering using a SVD approach in the surprise package. The surprise package also takes care of the test train split. The collaborative filter transforms user-item interactions into latent space, and reconstructs the user-item matrix to impute ratings missing movie ratings. The predicted rating is the dot product between the user and movie vectors in latent space. "
   ]
  },
  {
   "cell_type": "markdown",
   "metadata": {
    "collapsed": false,
    "pycharm": {
     "name": "#%% md\n"
    }
   },
   "source": [
    "## Format data for Surprise"
   ]
  },
  {
   "cell_type": "code",
   "execution_count": 9,
   "metadata": {
    "collapsed": false,
    "pycharm": {
     "name": "#%%\n"
    }
   },
   "outputs": [],
   "source": [
    "reader = Reader(rating_scale=(0, 5))\n",
    "data = Dataset.load_from_df(ratings[['userId', 'movieId', 'rating']], reader)\n",
    "trainset, testset = train_test_split(data, test_size=0.25)"
   ]
  },
  {
   "cell_type": "markdown",
   "metadata": {
    "collapsed": false,
    "pycharm": {
     "name": "#%% md\n"
    }
   },
   "source": [
    "## Train SVD Recommender"
   ]
  },
  {
   "cell_type": "code",
   "execution_count": 10,
   "metadata": {
    "collapsed": false,
    "pycharm": {
     "name": "#%%\n"
    }
   },
   "outputs": [
    {
     "data": {
      "text/plain": [
       "<surprise.prediction_algorithms.matrix_factorization.SVD at 0x7f9cc0543eb0>"
      ]
     },
     "execution_count": 10,
     "metadata": {},
     "output_type": "execute_result"
    }
   ],
   "source": [
    "algo = SVD()\n",
    "algo.fit(trainset)"
   ]
  },
  {
   "cell_type": "markdown",
   "metadata": {
    "collapsed": false,
    "pycharm": {
     "name": "#%% md\n"
    }
   },
   "source": [
    "## Make predictions on SVD test set"
   ]
  },
  {
   "cell_type": "code",
   "execution_count": 11,
   "metadata": {},
   "outputs": [
    {
     "data": {
      "text/html": [
       "<div>\n",
       "<style scoped>\n",
       "    .dataframe tbody tr th:only-of-type {\n",
       "        vertical-align: middle;\n",
       "    }\n",
       "\n",
       "    .dataframe tbody tr th {\n",
       "        vertical-align: top;\n",
       "    }\n",
       "\n",
       "    .dataframe thead th {\n",
       "        text-align: right;\n",
       "    }\n",
       "</style>\n",
       "<table border=\"1\" class=\"dataframe\">\n",
       "  <thead>\n",
       "    <tr style=\"text-align: right;\">\n",
       "      <th></th>\n",
       "      <th>userId</th>\n",
       "      <th>movieId</th>\n",
       "      <th>actual</th>\n",
       "      <th>cf_predictions</th>\n",
       "    </tr>\n",
       "  </thead>\n",
       "  <tbody>\n",
       "    <tr>\n",
       "      <th>0</th>\n",
       "      <td>61168</td>\n",
       "      <td>103341</td>\n",
       "      <td>4.0</td>\n",
       "      <td>3.509382</td>\n",
       "    </tr>\n",
       "    <tr>\n",
       "      <th>1</th>\n",
       "      <td>16676</td>\n",
       "      <td>90266</td>\n",
       "      <td>4.5</td>\n",
       "      <td>3.811754</td>\n",
       "    </tr>\n",
       "    <tr>\n",
       "      <th>2</th>\n",
       "      <td>125794</td>\n",
       "      <td>4037</td>\n",
       "      <td>5.0</td>\n",
       "      <td>4.196935</td>\n",
       "    </tr>\n",
       "    <tr>\n",
       "      <th>3</th>\n",
       "      <td>61053</td>\n",
       "      <td>1199</td>\n",
       "      <td>4.5</td>\n",
       "      <td>4.112337</td>\n",
       "    </tr>\n",
       "    <tr>\n",
       "      <th>4</th>\n",
       "      <td>137277</td>\n",
       "      <td>58652</td>\n",
       "      <td>3.0</td>\n",
       "      <td>3.253855</td>\n",
       "    </tr>\n",
       "  </tbody>\n",
       "</table>\n",
       "</div>"
      ],
      "text/plain": [
       "   userId  movieId  actual  cf_predictions\n",
       "0   61168   103341     4.0        3.509382\n",
       "1   16676    90266     4.5        3.811754\n",
       "2  125794     4037     5.0        4.196935\n",
       "3   61053     1199     4.5        4.112337\n",
       "4  137277    58652     3.0        3.253855"
      ]
     },
     "execution_count": 11,
     "metadata": {},
     "output_type": "execute_result"
    }
   ],
   "source": [
    "test = algo.test(testset)\n",
    "test = pd.DataFrame(test)\n",
    "test.drop(\"details\", inplace=True, axis=1)\n",
    "test.columns = ['userId', 'movieId', 'actual', 'cf_predictions']\n",
    "test.head()"
   ]
  },
  {
   "cell_type": "code",
   "execution_count": null,
   "metadata": {
    "collapsed": false,
    "pycharm": {
     "name": "#%%\n"
    }
   },
   "outputs": [],
   "source": []
  },
  {
   "cell_type": "markdown",
   "metadata": {
    "collapsed": false,
    "pycharm": {
     "name": "#%% md\n"
    }
   },
   "source": [
    "## Evaluate model with MSE and RMSE"
   ]
  },
  {
   "cell_type": "code",
   "execution_count": 12,
   "metadata": {},
   "outputs": [
    {
     "data": {
      "text/plain": [
       "(0         4.0\n",
       " 1         4.5\n",
       " 2         5.0\n",
       " 3         4.5\n",
       " 4         3.0\n",
       "          ... \n",
       " 329471    4.5\n",
       " 329472    3.0\n",
       " 329473    4.5\n",
       " 329474    4.0\n",
       " 329475    4.0\n",
       " Name: actual, Length: 329476, dtype: float64,\n",
       " 0         3.509382\n",
       " 1         3.811754\n",
       " 2         4.196935\n",
       " 3         4.112337\n",
       " 4         3.253855\n",
       "             ...   \n",
       " 329471    4.267611\n",
       " 329472    3.281042\n",
       " 329473    3.973436\n",
       " 329474    3.519543\n",
       " 329475    3.575604\n",
       " Name: cf_predictions, Length: 329476, dtype: float64)"
      ]
     },
     "execution_count": 12,
     "metadata": {},
     "output_type": "execute_result"
    }
   ],
   "source": [
    "test.actual, test.cf_predictions"
   ]
  },
  {
   "cell_type": "code",
   "execution_count": 13,
   "metadata": {
    "collapsed": false,
    "pycharm": {
     "name": "#%%\n"
    }
   },
   "outputs": [
    {
     "name": "stdout",
     "output_type": "stream",
     "text": [
      "MSE:  0.26678580692013226\n",
      "RMSE:  0.5165131236668942\n"
     ]
    }
   ],
   "source": [
    "print(\"MSE: \", recmetrics.mse(test.actual, test.cf_predictions))\n",
    "print(\"RMSE: \", recmetrics.rmse(test.actual, test.cf_predictions))"
   ]
  },
  {
   "cell_type": "code",
   "execution_count": 14,
   "metadata": {
    "collapsed": false,
    "pycharm": {
     "name": "#%%\n"
    }
   },
   "outputs": [
    {
     "data": {
      "text/html": [
       "<div>\n",
       "<style scoped>\n",
       "    .dataframe tbody tr th:only-of-type {\n",
       "        vertical-align: middle;\n",
       "    }\n",
       "\n",
       "    .dataframe tbody tr th {\n",
       "        vertical-align: top;\n",
       "    }\n",
       "\n",
       "    .dataframe thead th {\n",
       "        text-align: right;\n",
       "    }\n",
       "</style>\n",
       "<table border=\"1\" class=\"dataframe\">\n",
       "  <thead>\n",
       "    <tr style=\"text-align: right;\">\n",
       "      <th>movieId</th>\n",
       "      <th>1</th>\n",
       "      <th>2</th>\n",
       "      <th>3</th>\n",
       "      <th>4</th>\n",
       "      <th>5</th>\n",
       "      <th>6</th>\n",
       "      <th>7</th>\n",
       "      <th>8</th>\n",
       "      <th>9</th>\n",
       "      <th>10</th>\n",
       "      <th>...</th>\n",
       "      <th>131112</th>\n",
       "      <th>131120</th>\n",
       "      <th>131134</th>\n",
       "      <th>131140</th>\n",
       "      <th>131150</th>\n",
       "      <th>131158</th>\n",
       "      <th>131174</th>\n",
       "      <th>131241</th>\n",
       "      <th>131243</th>\n",
       "      <th>131250</th>\n",
       "    </tr>\n",
       "    <tr>\n",
       "      <th>userId</th>\n",
       "      <th></th>\n",
       "      <th></th>\n",
       "      <th></th>\n",
       "      <th></th>\n",
       "      <th></th>\n",
       "      <th></th>\n",
       "      <th></th>\n",
       "      <th></th>\n",
       "      <th></th>\n",
       "      <th></th>\n",
       "      <th></th>\n",
       "      <th></th>\n",
       "      <th></th>\n",
       "      <th></th>\n",
       "      <th></th>\n",
       "      <th></th>\n",
       "      <th></th>\n",
       "      <th></th>\n",
       "      <th></th>\n",
       "      <th></th>\n",
       "      <th></th>\n",
       "    </tr>\n",
       "  </thead>\n",
       "  <tbody>\n",
       "    <tr>\n",
       "      <th>156</th>\n",
       "      <td>0.000000</td>\n",
       "      <td>0.0</td>\n",
       "      <td>0.0</td>\n",
       "      <td>0.0</td>\n",
       "      <td>3.535603</td>\n",
       "      <td>0.000000</td>\n",
       "      <td>0.000000</td>\n",
       "      <td>0.0</td>\n",
       "      <td>0.0</td>\n",
       "      <td>0.0</td>\n",
       "      <td>...</td>\n",
       "      <td>0.0</td>\n",
       "      <td>0.0</td>\n",
       "      <td>0.0</td>\n",
       "      <td>0.0</td>\n",
       "      <td>0.0</td>\n",
       "      <td>0.0</td>\n",
       "      <td>0.0</td>\n",
       "      <td>0.0</td>\n",
       "      <td>0.0</td>\n",
       "      <td>0.0</td>\n",
       "    </tr>\n",
       "    <tr>\n",
       "      <th>208</th>\n",
       "      <td>0.000000</td>\n",
       "      <td>0.0</td>\n",
       "      <td>0.0</td>\n",
       "      <td>0.0</td>\n",
       "      <td>0.000000</td>\n",
       "      <td>0.000000</td>\n",
       "      <td>0.000000</td>\n",
       "      <td>0.0</td>\n",
       "      <td>0.0</td>\n",
       "      <td>0.0</td>\n",
       "      <td>...</td>\n",
       "      <td>0.0</td>\n",
       "      <td>0.0</td>\n",
       "      <td>0.0</td>\n",
       "      <td>0.0</td>\n",
       "      <td>0.0</td>\n",
       "      <td>0.0</td>\n",
       "      <td>0.0</td>\n",
       "      <td>0.0</td>\n",
       "      <td>0.0</td>\n",
       "      <td>0.0</td>\n",
       "    </tr>\n",
       "    <tr>\n",
       "      <th>359</th>\n",
       "      <td>0.000000</td>\n",
       "      <td>0.0</td>\n",
       "      <td>0.0</td>\n",
       "      <td>0.0</td>\n",
       "      <td>0.000000</td>\n",
       "      <td>4.129964</td>\n",
       "      <td>0.000000</td>\n",
       "      <td>0.0</td>\n",
       "      <td>0.0</td>\n",
       "      <td>0.0</td>\n",
       "      <td>...</td>\n",
       "      <td>0.0</td>\n",
       "      <td>0.0</td>\n",
       "      <td>0.0</td>\n",
       "      <td>0.0</td>\n",
       "      <td>0.0</td>\n",
       "      <td>0.0</td>\n",
       "      <td>0.0</td>\n",
       "      <td>0.0</td>\n",
       "      <td>0.0</td>\n",
       "      <td>0.0</td>\n",
       "    </tr>\n",
       "    <tr>\n",
       "      <th>394</th>\n",
       "      <td>0.000000</td>\n",
       "      <td>0.0</td>\n",
       "      <td>0.0</td>\n",
       "      <td>0.0</td>\n",
       "      <td>0.000000</td>\n",
       "      <td>0.000000</td>\n",
       "      <td>0.000000</td>\n",
       "      <td>0.0</td>\n",
       "      <td>0.0</td>\n",
       "      <td>0.0</td>\n",
       "      <td>...</td>\n",
       "      <td>0.0</td>\n",
       "      <td>0.0</td>\n",
       "      <td>0.0</td>\n",
       "      <td>0.0</td>\n",
       "      <td>0.0</td>\n",
       "      <td>0.0</td>\n",
       "      <td>0.0</td>\n",
       "      <td>0.0</td>\n",
       "      <td>0.0</td>\n",
       "      <td>0.0</td>\n",
       "    </tr>\n",
       "    <tr>\n",
       "      <th>572</th>\n",
       "      <td>0.000000</td>\n",
       "      <td>0.0</td>\n",
       "      <td>0.0</td>\n",
       "      <td>0.0</td>\n",
       "      <td>0.000000</td>\n",
       "      <td>0.000000</td>\n",
       "      <td>0.000000</td>\n",
       "      <td>0.0</td>\n",
       "      <td>0.0</td>\n",
       "      <td>0.0</td>\n",
       "      <td>...</td>\n",
       "      <td>0.0</td>\n",
       "      <td>0.0</td>\n",
       "      <td>0.0</td>\n",
       "      <td>0.0</td>\n",
       "      <td>0.0</td>\n",
       "      <td>0.0</td>\n",
       "      <td>0.0</td>\n",
       "      <td>0.0</td>\n",
       "      <td>0.0</td>\n",
       "      <td>0.0</td>\n",
       "    </tr>\n",
       "    <tr>\n",
       "      <th>...</th>\n",
       "      <td>...</td>\n",
       "      <td>...</td>\n",
       "      <td>...</td>\n",
       "      <td>...</td>\n",
       "      <td>...</td>\n",
       "      <td>...</td>\n",
       "      <td>...</td>\n",
       "      <td>...</td>\n",
       "      <td>...</td>\n",
       "      <td>...</td>\n",
       "      <td>...</td>\n",
       "      <td>...</td>\n",
       "      <td>...</td>\n",
       "      <td>...</td>\n",
       "      <td>...</td>\n",
       "      <td>...</td>\n",
       "      <td>...</td>\n",
       "      <td>...</td>\n",
       "      <td>...</td>\n",
       "      <td>...</td>\n",
       "      <td>...</td>\n",
       "    </tr>\n",
       "    <tr>\n",
       "      <th>137277</th>\n",
       "      <td>0.000000</td>\n",
       "      <td>0.0</td>\n",
       "      <td>0.0</td>\n",
       "      <td>0.0</td>\n",
       "      <td>0.000000</td>\n",
       "      <td>3.855514</td>\n",
       "      <td>0.000000</td>\n",
       "      <td>0.0</td>\n",
       "      <td>0.0</td>\n",
       "      <td>0.0</td>\n",
       "      <td>...</td>\n",
       "      <td>0.0</td>\n",
       "      <td>0.0</td>\n",
       "      <td>0.0</td>\n",
       "      <td>0.0</td>\n",
       "      <td>0.0</td>\n",
       "      <td>0.0</td>\n",
       "      <td>0.0</td>\n",
       "      <td>0.0</td>\n",
       "      <td>0.0</td>\n",
       "      <td>0.0</td>\n",
       "    </tr>\n",
       "    <tr>\n",
       "      <th>137686</th>\n",
       "      <td>4.367531</td>\n",
       "      <td>0.0</td>\n",
       "      <td>0.0</td>\n",
       "      <td>0.0</td>\n",
       "      <td>0.000000</td>\n",
       "      <td>0.000000</td>\n",
       "      <td>0.000000</td>\n",
       "      <td>0.0</td>\n",
       "      <td>0.0</td>\n",
       "      <td>0.0</td>\n",
       "      <td>...</td>\n",
       "      <td>0.0</td>\n",
       "      <td>0.0</td>\n",
       "      <td>0.0</td>\n",
       "      <td>0.0</td>\n",
       "      <td>0.0</td>\n",
       "      <td>0.0</td>\n",
       "      <td>0.0</td>\n",
       "      <td>0.0</td>\n",
       "      <td>0.0</td>\n",
       "      <td>0.0</td>\n",
       "    </tr>\n",
       "    <tr>\n",
       "      <th>138208</th>\n",
       "      <td>3.511877</td>\n",
       "      <td>0.0</td>\n",
       "      <td>0.0</td>\n",
       "      <td>0.0</td>\n",
       "      <td>0.000000</td>\n",
       "      <td>0.000000</td>\n",
       "      <td>0.000000</td>\n",
       "      <td>0.0</td>\n",
       "      <td>0.0</td>\n",
       "      <td>0.0</td>\n",
       "      <td>...</td>\n",
       "      <td>0.0</td>\n",
       "      <td>0.0</td>\n",
       "      <td>0.0</td>\n",
       "      <td>0.0</td>\n",
       "      <td>0.0</td>\n",
       "      <td>0.0</td>\n",
       "      <td>0.0</td>\n",
       "      <td>0.0</td>\n",
       "      <td>0.0</td>\n",
       "      <td>0.0</td>\n",
       "    </tr>\n",
       "    <tr>\n",
       "      <th>138254</th>\n",
       "      <td>3.906994</td>\n",
       "      <td>0.0</td>\n",
       "      <td>0.0</td>\n",
       "      <td>0.0</td>\n",
       "      <td>0.000000</td>\n",
       "      <td>4.118178</td>\n",
       "      <td>3.571814</td>\n",
       "      <td>0.0</td>\n",
       "      <td>0.0</td>\n",
       "      <td>0.0</td>\n",
       "      <td>...</td>\n",
       "      <td>0.0</td>\n",
       "      <td>0.0</td>\n",
       "      <td>0.0</td>\n",
       "      <td>0.0</td>\n",
       "      <td>0.0</td>\n",
       "      <td>0.0</td>\n",
       "      <td>0.0</td>\n",
       "      <td>0.0</td>\n",
       "      <td>0.0</td>\n",
       "      <td>0.0</td>\n",
       "    </tr>\n",
       "    <tr>\n",
       "      <th>138325</th>\n",
       "      <td>4.455442</td>\n",
       "      <td>0.0</td>\n",
       "      <td>0.0</td>\n",
       "      <td>0.0</td>\n",
       "      <td>0.000000</td>\n",
       "      <td>0.000000</td>\n",
       "      <td>0.000000</td>\n",
       "      <td>0.0</td>\n",
       "      <td>0.0</td>\n",
       "      <td>0.0</td>\n",
       "      <td>...</td>\n",
       "      <td>0.0</td>\n",
       "      <td>0.0</td>\n",
       "      <td>0.0</td>\n",
       "      <td>0.0</td>\n",
       "      <td>0.0</td>\n",
       "      <td>0.0</td>\n",
       "      <td>0.0</td>\n",
       "      <td>0.0</td>\n",
       "      <td>0.0</td>\n",
       "      <td>0.0</td>\n",
       "    </tr>\n",
       "  </tbody>\n",
       "</table>\n",
       "<p>933 rows × 16588 columns</p>\n",
       "</div>"
      ],
      "text/plain": [
       "movieId    1       2       3       4         5         6         7       \\\n",
       "userId                                                                    \n",
       "156      0.000000     0.0     0.0     0.0  3.535603  0.000000  0.000000   \n",
       "208      0.000000     0.0     0.0     0.0  0.000000  0.000000  0.000000   \n",
       "359      0.000000     0.0     0.0     0.0  0.000000  4.129964  0.000000   \n",
       "394      0.000000     0.0     0.0     0.0  0.000000  0.000000  0.000000   \n",
       "572      0.000000     0.0     0.0     0.0  0.000000  0.000000  0.000000   \n",
       "...           ...     ...     ...     ...       ...       ...       ...   \n",
       "137277   0.000000     0.0     0.0     0.0  0.000000  3.855514  0.000000   \n",
       "137686   4.367531     0.0     0.0     0.0  0.000000  0.000000  0.000000   \n",
       "138208   3.511877     0.0     0.0     0.0  0.000000  0.000000  0.000000   \n",
       "138254   3.906994     0.0     0.0     0.0  0.000000  4.118178  3.571814   \n",
       "138325   4.455442     0.0     0.0     0.0  0.000000  0.000000  0.000000   \n",
       "\n",
       "movieId  8       9       10      ...  131112  131120  131134  131140  131150  \\\n",
       "userId                           ...                                           \n",
       "156         0.0     0.0     0.0  ...     0.0     0.0     0.0     0.0     0.0   \n",
       "208         0.0     0.0     0.0  ...     0.0     0.0     0.0     0.0     0.0   \n",
       "359         0.0     0.0     0.0  ...     0.0     0.0     0.0     0.0     0.0   \n",
       "394         0.0     0.0     0.0  ...     0.0     0.0     0.0     0.0     0.0   \n",
       "572         0.0     0.0     0.0  ...     0.0     0.0     0.0     0.0     0.0   \n",
       "...         ...     ...     ...  ...     ...     ...     ...     ...     ...   \n",
       "137277      0.0     0.0     0.0  ...     0.0     0.0     0.0     0.0     0.0   \n",
       "137686      0.0     0.0     0.0  ...     0.0     0.0     0.0     0.0     0.0   \n",
       "138208      0.0     0.0     0.0  ...     0.0     0.0     0.0     0.0     0.0   \n",
       "138254      0.0     0.0     0.0  ...     0.0     0.0     0.0     0.0     0.0   \n",
       "138325      0.0     0.0     0.0  ...     0.0     0.0     0.0     0.0     0.0   \n",
       "\n",
       "movieId  131158  131174  131241  131243  131250  \n",
       "userId                                           \n",
       "156         0.0     0.0     0.0     0.0     0.0  \n",
       "208         0.0     0.0     0.0     0.0     0.0  \n",
       "359         0.0     0.0     0.0     0.0     0.0  \n",
       "394         0.0     0.0     0.0     0.0     0.0  \n",
       "572         0.0     0.0     0.0     0.0     0.0  \n",
       "...         ...     ...     ...     ...     ...  \n",
       "137277      0.0     0.0     0.0     0.0     0.0  \n",
       "137686      0.0     0.0     0.0     0.0     0.0  \n",
       "138208      0.0     0.0     0.0     0.0     0.0  \n",
       "138254      0.0     0.0     0.0     0.0     0.0  \n",
       "138325      0.0     0.0     0.0     0.0     0.0  \n",
       "\n",
       "[933 rows x 16588 columns]"
      ]
     },
     "execution_count": 14,
     "metadata": {},
     "output_type": "execute_result"
    }
   ],
   "source": [
    "#create model (matrix of predicted values)\n",
    "cf_model = test.pivot_table(index='userId', columns='movieId', values='cf_predictions').fillna(0)\n",
    "cf_model"
   ]
  },
  {
   "cell_type": "code",
   "execution_count": 15,
   "metadata": {
    "collapsed": false,
    "pycharm": {
     "name": "#%%\n"
    }
   },
   "outputs": [],
   "source": [
    "def get_users_predictions(user_id, n, model):\n",
    "    recommended_items = pd.DataFrame(model.loc[user_id])\n",
    "    recommended_items.columns = [\"predicted_rating\"]\n",
    "    recommended_items = recommended_items.sort_values('predicted_rating', ascending=False)    \n",
    "    recommended_items = recommended_items.head(n)\n",
    "    return recommended_items.index.tolist()"
   ]
  },
  {
   "cell_type": "code",
   "execution_count": 16,
   "metadata": {
    "collapsed": false,
    "pycharm": {
     "name": "#%%\n"
    }
   },
   "outputs": [
    {
     "data": {
      "text/plain": [
       "[110, 2028, 2571, 1610, 1097, 1214, 1961, 1221, 1302, 1527]"
      ]
     },
     "execution_count": 16,
     "metadata": {},
     "output_type": "execute_result"
    }
   ],
   "source": [
    "#get example prediction\n",
    "get_users_predictions(156, 10, cf_model)"
   ]
  },
  {
   "cell_type": "code",
   "execution_count": 17,
   "metadata": {},
   "outputs": [
    {
     "data": {
      "text/html": [
       "<div>\n",
       "<style scoped>\n",
       "    .dataframe tbody tr th:only-of-type {\n",
       "        vertical-align: middle;\n",
       "    }\n",
       "\n",
       "    .dataframe tbody tr th {\n",
       "        vertical-align: top;\n",
       "    }\n",
       "\n",
       "    .dataframe thead th {\n",
       "        text-align: right;\n",
       "    }\n",
       "</style>\n",
       "<table border=\"1\" class=\"dataframe\">\n",
       "  <thead>\n",
       "    <tr style=\"text-align: right;\">\n",
       "      <th></th>\n",
       "      <th>userId</th>\n",
       "      <th>movieId</th>\n",
       "      <th>actual</th>\n",
       "      <th>cf_predictions</th>\n",
       "    </tr>\n",
       "  </thead>\n",
       "  <tbody>\n",
       "    <tr>\n",
       "      <th>0</th>\n",
       "      <td>61168</td>\n",
       "      <td>103341</td>\n",
       "      <td>4.0</td>\n",
       "      <td>3.509382</td>\n",
       "    </tr>\n",
       "    <tr>\n",
       "      <th>1</th>\n",
       "      <td>16676</td>\n",
       "      <td>90266</td>\n",
       "      <td>4.5</td>\n",
       "      <td>3.811754</td>\n",
       "    </tr>\n",
       "    <tr>\n",
       "      <th>2</th>\n",
       "      <td>125794</td>\n",
       "      <td>4037</td>\n",
       "      <td>5.0</td>\n",
       "      <td>4.196935</td>\n",
       "    </tr>\n",
       "    <tr>\n",
       "      <th>3</th>\n",
       "      <td>61053</td>\n",
       "      <td>1199</td>\n",
       "      <td>4.5</td>\n",
       "      <td>4.112337</td>\n",
       "    </tr>\n",
       "    <tr>\n",
       "      <th>4</th>\n",
       "      <td>137277</td>\n",
       "      <td>58652</td>\n",
       "      <td>3.0</td>\n",
       "      <td>3.253855</td>\n",
       "    </tr>\n",
       "    <tr>\n",
       "      <th>...</th>\n",
       "      <td>...</td>\n",
       "      <td>...</td>\n",
       "      <td>...</td>\n",
       "      <td>...</td>\n",
       "    </tr>\n",
       "    <tr>\n",
       "      <th>329471</th>\n",
       "      <td>59852</td>\n",
       "      <td>50068</td>\n",
       "      <td>4.5</td>\n",
       "      <td>4.267611</td>\n",
       "    </tr>\n",
       "    <tr>\n",
       "      <th>329472</th>\n",
       "      <td>38539</td>\n",
       "      <td>3136</td>\n",
       "      <td>3.0</td>\n",
       "      <td>3.281042</td>\n",
       "    </tr>\n",
       "    <tr>\n",
       "      <th>329473</th>\n",
       "      <td>99342</td>\n",
       "      <td>2134</td>\n",
       "      <td>4.5</td>\n",
       "      <td>3.973436</td>\n",
       "    </tr>\n",
       "    <tr>\n",
       "      <th>329474</th>\n",
       "      <td>123327</td>\n",
       "      <td>5668</td>\n",
       "      <td>4.0</td>\n",
       "      <td>3.519543</td>\n",
       "    </tr>\n",
       "    <tr>\n",
       "      <th>329475</th>\n",
       "      <td>110858</td>\n",
       "      <td>91128</td>\n",
       "      <td>4.0</td>\n",
       "      <td>3.575604</td>\n",
       "    </tr>\n",
       "  </tbody>\n",
       "</table>\n",
       "<p>329476 rows × 4 columns</p>\n",
       "</div>"
      ],
      "text/plain": [
       "        userId  movieId  actual  cf_predictions\n",
       "0        61168   103341     4.0        3.509382\n",
       "1        16676    90266     4.5        3.811754\n",
       "2       125794     4037     5.0        4.196935\n",
       "3        61053     1199     4.5        4.112337\n",
       "4       137277    58652     3.0        3.253855\n",
       "...        ...      ...     ...             ...\n",
       "329471   59852    50068     4.5        4.267611\n",
       "329472   38539     3136     3.0        3.281042\n",
       "329473   99342     2134     4.5        3.973436\n",
       "329474  123327     5668     4.0        3.519543\n",
       "329475  110858    91128     4.0        3.575604\n",
       "\n",
       "[329476 rows x 4 columns]"
      ]
     },
     "execution_count": 17,
     "metadata": {},
     "output_type": "execute_result"
    }
   ],
   "source": [
    "test"
   ]
  },
  {
   "cell_type": "code",
   "execution_count": 18,
   "metadata": {
    "collapsed": false,
    "pycharm": {
     "name": "#%%\n"
    }
   },
   "outputs": [],
   "source": [
    "test = test.copy().groupby('userId', as_index=False)['movieId'].agg({'actual': (lambda x: list(set(x)))})"
   ]
  },
  {
   "cell_type": "code",
   "execution_count": 19,
   "metadata": {
    "collapsed": false,
    "pycharm": {
     "name": "#%%\n"
    }
   },
   "outputs": [],
   "source": [
    "test = test.set_index(\"userId\")"
   ]
  },
  {
   "cell_type": "code",
   "execution_count": 20,
   "metadata": {},
   "outputs": [
    {
     "data": {
      "text/html": [
       "<div>\n",
       "<style scoped>\n",
       "    .dataframe tbody tr th:only-of-type {\n",
       "        vertical-align: middle;\n",
       "    }\n",
       "\n",
       "    .dataframe tbody tr th {\n",
       "        vertical-align: top;\n",
       "    }\n",
       "\n",
       "    .dataframe thead th {\n",
       "        text-align: right;\n",
       "    }\n",
       "</style>\n",
       "<table border=\"1\" class=\"dataframe\">\n",
       "  <thead>\n",
       "    <tr style=\"text-align: right;\">\n",
       "      <th></th>\n",
       "      <th>actual</th>\n",
       "    </tr>\n",
       "    <tr>\n",
       "      <th>userId</th>\n",
       "      <th></th>\n",
       "    </tr>\n",
       "  </thead>\n",
       "  <tbody>\n",
       "    <tr>\n",
       "      <th>156</th>\n",
       "      <td>[5, 12, 2062, 17, 2067, 25, 4129, 35, 6184, 20...</td>\n",
       "    </tr>\n",
       "    <tr>\n",
       "      <th>208</th>\n",
       "      <td>[1537, 69122, 89090, 4103, 44555, 523, 3083, 1...</td>\n",
       "    </tr>\n",
       "    <tr>\n",
       "      <th>359</th>\n",
       "      <td>[33794, 2565, 45062, 6, 1032, 57353, 524, 5582...</td>\n",
       "    </tr>\n",
       "    <tr>\n",
       "      <th>394</th>\n",
       "      <td>[54272, 1537, 26116, 3077, 6663, 4617, 44555, ...</td>\n",
       "    </tr>\n",
       "    <tr>\n",
       "      <th>572</th>\n",
       "      <td>[54272, 2561, 54787, 39427, 2054, 69640, 520, ...</td>\n",
       "    </tr>\n",
       "    <tr>\n",
       "      <th>...</th>\n",
       "      <td>...</td>\n",
       "    </tr>\n",
       "    <tr>\n",
       "      <th>137277</th>\n",
       "      <td>[6, 100363, 2060, 18, 57368, 4135, 106540, 209...</td>\n",
       "    </tr>\n",
       "    <tr>\n",
       "      <th>137686</th>\n",
       "      <td>[1, 2058, 2059, 11, 6157, 2064, 8225, 42, 47, ...</td>\n",
       "    </tr>\n",
       "    <tr>\n",
       "      <th>138208</th>\n",
       "      <td>[1, 83976, 2058, 2059, 77837, 6157, 17, 57368,...</td>\n",
       "    </tr>\n",
       "    <tr>\n",
       "      <th>138254</th>\n",
       "      <td>[54272, 1, 69122, 37380, 6, 7, 520, 2058, 2571...</td>\n",
       "    </tr>\n",
       "    <tr>\n",
       "      <th>138325</th>\n",
       "      <td>[1, 26631, 69640, 6151, 4105, 36883, 2076, 307...</td>\n",
       "    </tr>\n",
       "  </tbody>\n",
       "</table>\n",
       "<p>933 rows × 1 columns</p>\n",
       "</div>"
      ],
      "text/plain": [
       "                                                   actual\n",
       "userId                                                   \n",
       "156     [5, 12, 2062, 17, 2067, 25, 4129, 35, 6184, 20...\n",
       "208     [1537, 69122, 89090, 4103, 44555, 523, 3083, 1...\n",
       "359     [33794, 2565, 45062, 6, 1032, 57353, 524, 5582...\n",
       "394     [54272, 1537, 26116, 3077, 6663, 4617, 44555, ...\n",
       "572     [54272, 2561, 54787, 39427, 2054, 69640, 520, ...\n",
       "...                                                   ...\n",
       "137277  [6, 100363, 2060, 18, 57368, 4135, 106540, 209...\n",
       "137686  [1, 2058, 2059, 11, 6157, 2064, 8225, 42, 47, ...\n",
       "138208  [1, 83976, 2058, 2059, 77837, 6157, 17, 57368,...\n",
       "138254  [54272, 1, 69122, 37380, 6, 7, 520, 2058, 2571...\n",
       "138325  [1, 26631, 69640, 6151, 4105, 36883, 2076, 307...\n",
       "\n",
       "[933 rows x 1 columns]"
      ]
     },
     "execution_count": 20,
     "metadata": {},
     "output_type": "execute_result"
    }
   ],
   "source": [
    "test"
   ]
  },
  {
   "cell_type": "code",
   "execution_count": null,
   "metadata": {},
   "outputs": [],
   "source": []
  },
  {
   "cell_type": "code",
   "execution_count": 21,
   "metadata": {},
   "outputs": [],
   "source": [
    "#Each user would have a different length of \"actual\" "
   ]
  },
  {
   "cell_type": "code",
   "execution_count": 22,
   "metadata": {},
   "outputs": [
    {
     "name": "stdout",
     "output_type": "stream",
     "text": [
      "224\n",
      "2006\n"
     ]
    }
   ],
   "source": [
    "minimum=len(test.iloc[0]['actual'])\n",
    "maximum=len(test.iloc[0]['actual'])\n",
    "    \n",
    "for i,row in test.iterrows():\n",
    "    #print(i)\n",
    "    #print(len(row['actual']))\n",
    "    #print()\n",
    "\n",
    "    if(len(row['actual'])>=maximum):\n",
    "        maximum=len(row['actual'])\n",
    "    if(len(row['actual'])<=minimum):\n",
    "        minimum=len(row['actual'])\n",
    "\n",
    "\n",
    "print(minimum)\n",
    "print(maximum)\n",
    "\n"
   ]
  },
  {
   "cell_type": "code",
   "execution_count": 23,
   "metadata": {},
   "outputs": [],
   "source": [
    "#min no of transactions by a user is 225\n",
    "#max no of transactions by a user is 2077"
   ]
  },
  {
   "cell_type": "code",
   "execution_count": 24,
   "metadata": {},
   "outputs": [],
   "source": [
    "test['no of interactions'] = test['actual'].str.len()"
   ]
  },
  {
   "cell_type": "code",
   "execution_count": 25,
   "metadata": {},
   "outputs": [
    {
     "data": {
      "text/html": [
       "<div>\n",
       "<style scoped>\n",
       "    .dataframe tbody tr th:only-of-type {\n",
       "        vertical-align: middle;\n",
       "    }\n",
       "\n",
       "    .dataframe tbody tr th {\n",
       "        vertical-align: top;\n",
       "    }\n",
       "\n",
       "    .dataframe thead th {\n",
       "        text-align: right;\n",
       "    }\n",
       "</style>\n",
       "<table border=\"1\" class=\"dataframe\">\n",
       "  <thead>\n",
       "    <tr style=\"text-align: right;\">\n",
       "      <th></th>\n",
       "      <th>actual</th>\n",
       "      <th>no of interactions</th>\n",
       "    </tr>\n",
       "    <tr>\n",
       "      <th>userId</th>\n",
       "      <th></th>\n",
       "      <th></th>\n",
       "    </tr>\n",
       "  </thead>\n",
       "  <tbody>\n",
       "    <tr>\n",
       "      <th>156</th>\n",
       "      <td>[5, 12, 2062, 17, 2067, 25, 4129, 35, 6184, 20...</td>\n",
       "      <td>509</td>\n",
       "    </tr>\n",
       "    <tr>\n",
       "      <th>208</th>\n",
       "      <td>[1537, 69122, 89090, 4103, 44555, 523, 3083, 1...</td>\n",
       "      <td>289</td>\n",
       "    </tr>\n",
       "    <tr>\n",
       "      <th>359</th>\n",
       "      <td>[33794, 2565, 45062, 6, 1032, 57353, 524, 5582...</td>\n",
       "      <td>271</td>\n",
       "    </tr>\n",
       "    <tr>\n",
       "      <th>394</th>\n",
       "      <td>[54272, 1537, 26116, 3077, 6663, 4617, 44555, ...</td>\n",
       "      <td>294</td>\n",
       "    </tr>\n",
       "    <tr>\n",
       "      <th>572</th>\n",
       "      <td>[54272, 2561, 54787, 39427, 2054, 69640, 520, ...</td>\n",
       "      <td>249</td>\n",
       "    </tr>\n",
       "    <tr>\n",
       "      <th>...</th>\n",
       "      <td>...</td>\n",
       "      <td>...</td>\n",
       "    </tr>\n",
       "    <tr>\n",
       "      <th>137277</th>\n",
       "      <td>[6, 100363, 2060, 18, 57368, 4135, 106540, 209...</td>\n",
       "      <td>418</td>\n",
       "    </tr>\n",
       "    <tr>\n",
       "      <th>137686</th>\n",
       "      <td>[1, 2058, 2059, 11, 6157, 2064, 8225, 42, 47, ...</td>\n",
       "      <td>459</td>\n",
       "    </tr>\n",
       "    <tr>\n",
       "      <th>138208</th>\n",
       "      <td>[1, 83976, 2058, 2059, 77837, 6157, 17, 57368,...</td>\n",
       "      <td>343</td>\n",
       "    </tr>\n",
       "    <tr>\n",
       "      <th>138254</th>\n",
       "      <td>[54272, 1, 69122, 37380, 6, 7, 520, 2058, 2571...</td>\n",
       "      <td>247</td>\n",
       "    </tr>\n",
       "    <tr>\n",
       "      <th>138325</th>\n",
       "      <td>[1, 26631, 69640, 6151, 4105, 36883, 2076, 307...</td>\n",
       "      <td>428</td>\n",
       "    </tr>\n",
       "  </tbody>\n",
       "</table>\n",
       "<p>933 rows × 2 columns</p>\n",
       "</div>"
      ],
      "text/plain": [
       "                                                   actual  no of interactions\n",
       "userId                                                                       \n",
       "156     [5, 12, 2062, 17, 2067, 25, 4129, 35, 6184, 20...                 509\n",
       "208     [1537, 69122, 89090, 4103, 44555, 523, 3083, 1...                 289\n",
       "359     [33794, 2565, 45062, 6, 1032, 57353, 524, 5582...                 271\n",
       "394     [54272, 1537, 26116, 3077, 6663, 4617, 44555, ...                 294\n",
       "572     [54272, 2561, 54787, 39427, 2054, 69640, 520, ...                 249\n",
       "...                                                   ...                 ...\n",
       "137277  [6, 100363, 2060, 18, 57368, 4135, 106540, 209...                 418\n",
       "137686  [1, 2058, 2059, 11, 6157, 2064, 8225, 42, 47, ...                 459\n",
       "138208  [1, 83976, 2058, 2059, 77837, 6157, 17, 57368,...                 343\n",
       "138254  [54272, 1, 69122, 37380, 6, 7, 520, 2058, 2571...                 247\n",
       "138325  [1, 26631, 69640, 6151, 4105, 36883, 2076, 307...                 428\n",
       "\n",
       "[933 rows x 2 columns]"
      ]
     },
     "execution_count": 25,
     "metadata": {},
     "output_type": "execute_result"
    }
   ],
   "source": [
    "test"
   ]
  },
  {
   "cell_type": "code",
   "execution_count": 26,
   "metadata": {},
   "outputs": [
    {
     "data": {
      "text/plain": [
       "(224, 2006)"
      ]
     },
     "execution_count": 26,
     "metadata": {},
     "output_type": "execute_result"
    }
   ],
   "source": [
    "test['no of interactions'].min(), test['no of interactions'].max()"
   ]
  },
  {
   "cell_type": "code",
   "execution_count": null,
   "metadata": {},
   "outputs": [],
   "source": []
  },
  {
   "cell_type": "code",
   "execution_count": null,
   "metadata": {},
   "outputs": [],
   "source": []
  },
  {
   "cell_type": "code",
   "execution_count": 27,
   "metadata": {
    "collapsed": false,
    "pycharm": {
     "name": "#%%\n"
    }
   },
   "outputs": [
    {
     "data": {
      "text/html": [
       "<div>\n",
       "<style scoped>\n",
       "    .dataframe tbody tr th:only-of-type {\n",
       "        vertical-align: middle;\n",
       "    }\n",
       "\n",
       "    .dataframe tbody tr th {\n",
       "        vertical-align: top;\n",
       "    }\n",
       "\n",
       "    .dataframe thead th {\n",
       "        text-align: right;\n",
       "    }\n",
       "</style>\n",
       "<table border=\"1\" class=\"dataframe\">\n",
       "  <thead>\n",
       "    <tr style=\"text-align: right;\">\n",
       "      <th></th>\n",
       "      <th>actual</th>\n",
       "      <th>no of interactions</th>\n",
       "      <th>cf_predictions</th>\n",
       "    </tr>\n",
       "    <tr>\n",
       "      <th>userId</th>\n",
       "      <th></th>\n",
       "      <th></th>\n",
       "      <th></th>\n",
       "    </tr>\n",
       "  </thead>\n",
       "  <tbody>\n",
       "    <tr>\n",
       "      <th>156</th>\n",
       "      <td>[5, 12, 2062, 17, 2067, 25, 4129, 35, 6184, 20...</td>\n",
       "      <td>509</td>\n",
       "      <td>[110, 2028, 2571, 1610, 1097, 1214, 1961, 1221...</td>\n",
       "    </tr>\n",
       "    <tr>\n",
       "      <th>208</th>\n",
       "      <td>[1537, 69122, 89090, 4103, 44555, 523, 3083, 1...</td>\n",
       "      <td>289</td>\n",
       "      <td>[858, 296, 593, 905, 1136, 1248, 903, 260, 732...</td>\n",
       "    </tr>\n",
       "    <tr>\n",
       "      <th>359</th>\n",
       "      <td>[33794, 2565, 45062, 6, 1032, 57353, 524, 5582...</td>\n",
       "      <td>271</td>\n",
       "      <td>[1196, 593, 912, 3307, 953, 58559, 913, 48516,...</td>\n",
       "    </tr>\n",
       "    <tr>\n",
       "      <th>394</th>\n",
       "      <td>[54272, 1537, 26116, 3077, 6663, 4617, 44555, ...</td>\n",
       "      <td>294</td>\n",
       "      <td>[922, 924, 5291, 1248, 912, 296, 6016, 3160, 1...</td>\n",
       "    </tr>\n",
       "    <tr>\n",
       "      <th>572</th>\n",
       "      <td>[54272, 2561, 54787, 39427, 2054, 69640, 520, ...</td>\n",
       "      <td>249</td>\n",
       "      <td>[318, 7153, 1270, 5952, 589, 1704, 47, 1291, 5...</td>\n",
       "    </tr>\n",
       "  </tbody>\n",
       "</table>\n",
       "</div>"
      ],
      "text/plain": [
       "                                                   actual  no of interactions  \\\n",
       "userId                                                                          \n",
       "156     [5, 12, 2062, 17, 2067, 25, 4129, 35, 6184, 20...                 509   \n",
       "208     [1537, 69122, 89090, 4103, 44555, 523, 3083, 1...                 289   \n",
       "359     [33794, 2565, 45062, 6, 1032, 57353, 524, 5582...                 271   \n",
       "394     [54272, 1537, 26116, 3077, 6663, 4617, 44555, ...                 294   \n",
       "572     [54272, 2561, 54787, 39427, 2054, 69640, 520, ...                 249   \n",
       "\n",
       "                                           cf_predictions  \n",
       "userId                                                     \n",
       "156     [110, 2028, 2571, 1610, 1097, 1214, 1961, 1221...  \n",
       "208     [858, 296, 593, 905, 1136, 1248, 903, 260, 732...  \n",
       "359     [1196, 593, 912, 3307, 953, 58559, 913, 48516,...  \n",
       "394     [922, 924, 5291, 1248, 912, 296, 6016, 3160, 1...  \n",
       "572     [318, 7153, 1270, 5952, 589, 1704, 47, 1291, 5...  "
      ]
     },
     "execution_count": 27,
     "metadata": {},
     "output_type": "execute_result"
    }
   ],
   "source": [
    "# make recommendations for all members in the test data\n",
    "\n",
    "cf_recs = [] = []\n",
    "for user in test.index:\n",
    "    cf_predictions = get_users_predictions(user, 10, cf_model)\n",
    "    cf_recs.append(cf_predictions)\n",
    "        \n",
    "test['cf_predictions'] = cf_recs\n",
    "test.head()"
   ]
  },
  {
   "cell_type": "code",
   "execution_count": null,
   "metadata": {},
   "outputs": [],
   "source": []
  },
  {
   "cell_type": "markdown",
   "metadata": {
    "collapsed": false,
    "pycharm": {
     "name": "#%% md\n"
    }
   },
   "source": [
    "# Popularity Recommender\n",
    "Creating a simple popularity recommender to demonstrate recommender metrics in action. The popularity recommender simply recommends the top 10 movies to every user."
   ]
  },
  {
   "cell_type": "code",
   "execution_count": 28,
   "metadata": {
    "collapsed": false,
    "pycharm": {
     "name": "#%%\n"
    }
   },
   "outputs": [
    {
     "data": {
      "text/plain": [
       "[1198, 593, 1270, 2762, 318, 2571, 260, 1240, 296, 608]"
      ]
     },
     "execution_count": 28,
     "metadata": {},
     "output_type": "execute_result"
    }
   ],
   "source": [
    "#make recommendations for all members in the test data\n",
    "popularity_recs = ratings.movieId.value_counts().head(10).index.tolist()\n",
    "popularity_recs\n"
   ]
  },
  {
   "cell_type": "code",
   "execution_count": 29,
   "metadata": {},
   "outputs": [
    {
     "data": {
      "text/html": [
       "<div>\n",
       "<style scoped>\n",
       "    .dataframe tbody tr th:only-of-type {\n",
       "        vertical-align: middle;\n",
       "    }\n",
       "\n",
       "    .dataframe tbody tr th {\n",
       "        vertical-align: top;\n",
       "    }\n",
       "\n",
       "    .dataframe thead th {\n",
       "        text-align: right;\n",
       "    }\n",
       "</style>\n",
       "<table border=\"1\" class=\"dataframe\">\n",
       "  <thead>\n",
       "    <tr style=\"text-align: right;\">\n",
       "      <th></th>\n",
       "      <th>actual</th>\n",
       "      <th>no of interactions</th>\n",
       "      <th>cf_predictions</th>\n",
       "      <th>pop_predictions</th>\n",
       "    </tr>\n",
       "    <tr>\n",
       "      <th>userId</th>\n",
       "      <th></th>\n",
       "      <th></th>\n",
       "      <th></th>\n",
       "      <th></th>\n",
       "    </tr>\n",
       "  </thead>\n",
       "  <tbody>\n",
       "    <tr>\n",
       "      <th>156</th>\n",
       "      <td>[5, 12, 2062, 17, 2067, 25, 4129, 35, 6184, 20...</td>\n",
       "      <td>509</td>\n",
       "      <td>[110, 2028, 2571, 1610, 1097, 1214, 1961, 1221...</td>\n",
       "      <td>[1198, 593, 1270, 2762, 318, 2571, 260, 1240, ...</td>\n",
       "    </tr>\n",
       "    <tr>\n",
       "      <th>208</th>\n",
       "      <td>[1537, 69122, 89090, 4103, 44555, 523, 3083, 1...</td>\n",
       "      <td>289</td>\n",
       "      <td>[858, 296, 593, 905, 1136, 1248, 903, 260, 732...</td>\n",
       "      <td>[1198, 593, 1270, 2762, 318, 2571, 260, 1240, ...</td>\n",
       "    </tr>\n",
       "    <tr>\n",
       "      <th>359</th>\n",
       "      <td>[33794, 2565, 45062, 6, 1032, 57353, 524, 5582...</td>\n",
       "      <td>271</td>\n",
       "      <td>[1196, 593, 912, 3307, 953, 58559, 913, 48516,...</td>\n",
       "      <td>[1198, 593, 1270, 2762, 318, 2571, 260, 1240, ...</td>\n",
       "    </tr>\n",
       "    <tr>\n",
       "      <th>394</th>\n",
       "      <td>[54272, 1537, 26116, 3077, 6663, 4617, 44555, ...</td>\n",
       "      <td>294</td>\n",
       "      <td>[922, 924, 5291, 1248, 912, 296, 6016, 3160, 1...</td>\n",
       "      <td>[1198, 593, 1270, 2762, 318, 2571, 260, 1240, ...</td>\n",
       "    </tr>\n",
       "    <tr>\n",
       "      <th>572</th>\n",
       "      <td>[54272, 2561, 54787, 39427, 2054, 69640, 520, ...</td>\n",
       "      <td>249</td>\n",
       "      <td>[318, 7153, 1270, 5952, 589, 1704, 47, 1291, 5...</td>\n",
       "      <td>[1198, 593, 1270, 2762, 318, 2571, 260, 1240, ...</td>\n",
       "    </tr>\n",
       "  </tbody>\n",
       "</table>\n",
       "</div>"
      ],
      "text/plain": [
       "                                                   actual  no of interactions  \\\n",
       "userId                                                                          \n",
       "156     [5, 12, 2062, 17, 2067, 25, 4129, 35, 6184, 20...                 509   \n",
       "208     [1537, 69122, 89090, 4103, 44555, 523, 3083, 1...                 289   \n",
       "359     [33794, 2565, 45062, 6, 1032, 57353, 524, 5582...                 271   \n",
       "394     [54272, 1537, 26116, 3077, 6663, 4617, 44555, ...                 294   \n",
       "572     [54272, 2561, 54787, 39427, 2054, 69640, 520, ...                 249   \n",
       "\n",
       "                                           cf_predictions  \\\n",
       "userId                                                      \n",
       "156     [110, 2028, 2571, 1610, 1097, 1214, 1961, 1221...   \n",
       "208     [858, 296, 593, 905, 1136, 1248, 903, 260, 732...   \n",
       "359     [1196, 593, 912, 3307, 953, 58559, 913, 48516,...   \n",
       "394     [922, 924, 5291, 1248, 912, 296, 6016, 3160, 1...   \n",
       "572     [318, 7153, 1270, 5952, 589, 1704, 47, 1291, 5...   \n",
       "\n",
       "                                          pop_predictions  \n",
       "userId                                                     \n",
       "156     [1198, 593, 1270, 2762, 318, 2571, 260, 1240, ...  \n",
       "208     [1198, 593, 1270, 2762, 318, 2571, 260, 1240, ...  \n",
       "359     [1198, 593, 1270, 2762, 318, 2571, 260, 1240, ...  \n",
       "394     [1198, 593, 1270, 2762, 318, 2571, 260, 1240, ...  \n",
       "572     [1198, 593, 1270, 2762, 318, 2571, 260, 1240, ...  "
      ]
     },
     "execution_count": 29,
     "metadata": {},
     "output_type": "execute_result"
    }
   ],
   "source": [
    "pop_recs = []\n",
    "for user in test.index:\n",
    "    pop_predictions = popularity_recs\n",
    "    pop_recs.append(pop_predictions)\n",
    "        \n",
    "test['pop_predictions'] = pop_recs\n",
    "test.head()"
   ]
  },
  {
   "cell_type": "code",
   "execution_count": null,
   "metadata": {},
   "outputs": [],
   "source": []
  },
  {
   "cell_type": "markdown",
   "metadata": {
    "collapsed": false,
    "pycharm": {
     "name": "#%% md\n"
    }
   },
   "source": [
    "# Random Recommender\n",
    "Creating a simple random recommender to demonstrate recommender metrics in action. The random recommender simply recommends 10 random movies to every user."
   ]
  },
  {
   "cell_type": "code",
   "execution_count": 30,
   "metadata": {
    "collapsed": false,
    "pycharm": {
     "name": "#%%\n"
    }
   },
   "outputs": [
    {
     "data": {
      "text/html": [
       "<div>\n",
       "<style scoped>\n",
       "    .dataframe tbody tr th:only-of-type {\n",
       "        vertical-align: middle;\n",
       "    }\n",
       "\n",
       "    .dataframe tbody tr th {\n",
       "        vertical-align: top;\n",
       "    }\n",
       "\n",
       "    .dataframe thead th {\n",
       "        text-align: right;\n",
       "    }\n",
       "</style>\n",
       "<table border=\"1\" class=\"dataframe\">\n",
       "  <thead>\n",
       "    <tr style=\"text-align: right;\">\n",
       "      <th></th>\n",
       "      <th>actual</th>\n",
       "      <th>no of interactions</th>\n",
       "      <th>cf_predictions</th>\n",
       "      <th>pop_predictions</th>\n",
       "      <th>random_predictions</th>\n",
       "    </tr>\n",
       "    <tr>\n",
       "      <th>userId</th>\n",
       "      <th></th>\n",
       "      <th></th>\n",
       "      <th></th>\n",
       "      <th></th>\n",
       "      <th></th>\n",
       "    </tr>\n",
       "  </thead>\n",
       "  <tbody>\n",
       "    <tr>\n",
       "      <th>156</th>\n",
       "      <td>[5, 12, 2062, 17, 2067, 25, 4129, 35, 6184, 20...</td>\n",
       "      <td>509</td>\n",
       "      <td>[110, 2028, 2571, 1610, 1097, 1214, 1961, 1221...</td>\n",
       "      <td>[1198, 593, 1270, 2762, 318, 2571, 260, 1240, ...</td>\n",
       "      <td>[5049, 4008, 1588, 64839, 4246, 1488, 920, 137...</td>\n",
       "    </tr>\n",
       "    <tr>\n",
       "      <th>208</th>\n",
       "      <td>[1537, 69122, 89090, 4103, 44555, 523, 3083, 1...</td>\n",
       "      <td>289</td>\n",
       "      <td>[858, 296, 593, 905, 1136, 1248, 903, 260, 732...</td>\n",
       "      <td>[1198, 593, 1270, 2762, 318, 2571, 260, 1240, ...</td>\n",
       "      <td>[4662, 2712, 44, 4995, 1730, 8528, 3753, 66371...</td>\n",
       "    </tr>\n",
       "    <tr>\n",
       "      <th>359</th>\n",
       "      <td>[33794, 2565, 45062, 6, 1032, 57353, 524, 5582...</td>\n",
       "      <td>271</td>\n",
       "      <td>[1196, 593, 912, 3307, 953, 58559, 913, 48516,...</td>\n",
       "      <td>[1198, 593, 1270, 2762, 318, 2571, 260, 1240, ...</td>\n",
       "      <td>[588, 87232, 25777, 1198, 8814, 1904, 3452, 12...</td>\n",
       "    </tr>\n",
       "    <tr>\n",
       "      <th>394</th>\n",
       "      <td>[54272, 1537, 26116, 3077, 6663, 4617, 44555, ...</td>\n",
       "      <td>294</td>\n",
       "      <td>[922, 924, 5291, 1248, 912, 296, 6016, 3160, 1...</td>\n",
       "      <td>[1198, 593, 1270, 2762, 318, 2571, 260, 1240, ...</td>\n",
       "      <td>[1639, 158, 224, 897, 6413, 6258, 2529, 1253, ...</td>\n",
       "    </tr>\n",
       "    <tr>\n",
       "      <th>572</th>\n",
       "      <td>[54272, 2561, 54787, 39427, 2054, 69640, 520, ...</td>\n",
       "      <td>249</td>\n",
       "      <td>[318, 7153, 1270, 5952, 589, 1704, 47, 1291, 5...</td>\n",
       "      <td>[1198, 593, 1270, 2762, 318, 2571, 260, 1240, ...</td>\n",
       "      <td>[44195, 7347, 2020, 7153, 77820, 1668, 7102, 2...</td>\n",
       "    </tr>\n",
       "  </tbody>\n",
       "</table>\n",
       "</div>"
      ],
      "text/plain": [
       "                                                   actual  no of interactions  \\\n",
       "userId                                                                          \n",
       "156     [5, 12, 2062, 17, 2067, 25, 4129, 35, 6184, 20...                 509   \n",
       "208     [1537, 69122, 89090, 4103, 44555, 523, 3083, 1...                 289   \n",
       "359     [33794, 2565, 45062, 6, 1032, 57353, 524, 5582...                 271   \n",
       "394     [54272, 1537, 26116, 3077, 6663, 4617, 44555, ...                 294   \n",
       "572     [54272, 2561, 54787, 39427, 2054, 69640, 520, ...                 249   \n",
       "\n",
       "                                           cf_predictions  \\\n",
       "userId                                                      \n",
       "156     [110, 2028, 2571, 1610, 1097, 1214, 1961, 1221...   \n",
       "208     [858, 296, 593, 905, 1136, 1248, 903, 260, 732...   \n",
       "359     [1196, 593, 912, 3307, 953, 58559, 913, 48516,...   \n",
       "394     [922, 924, 5291, 1248, 912, 296, 6016, 3160, 1...   \n",
       "572     [318, 7153, 1270, 5952, 589, 1704, 47, 1291, 5...   \n",
       "\n",
       "                                          pop_predictions  \\\n",
       "userId                                                      \n",
       "156     [1198, 593, 1270, 2762, 318, 2571, 260, 1240, ...   \n",
       "208     [1198, 593, 1270, 2762, 318, 2571, 260, 1240, ...   \n",
       "359     [1198, 593, 1270, 2762, 318, 2571, 260, 1240, ...   \n",
       "394     [1198, 593, 1270, 2762, 318, 2571, 260, 1240, ...   \n",
       "572     [1198, 593, 1270, 2762, 318, 2571, 260, 1240, ...   \n",
       "\n",
       "                                       random_predictions  \n",
       "userId                                                     \n",
       "156     [5049, 4008, 1588, 64839, 4246, 1488, 920, 137...  \n",
       "208     [4662, 2712, 44, 4995, 1730, 8528, 3753, 66371...  \n",
       "359     [588, 87232, 25777, 1198, 8814, 1904, 3452, 12...  \n",
       "394     [1639, 158, 224, 897, 6413, 6258, 2529, 1253, ...  \n",
       "572     [44195, 7347, 2020, 7153, 77820, 1668, 7102, 2...  "
      ]
     },
     "execution_count": 30,
     "metadata": {},
     "output_type": "execute_result"
    }
   ],
   "source": [
    "#make recommendations for all members in the test data\n",
    "\n",
    "ran_recs = []\n",
    "for user in test.index:\n",
    "    random_predictions = ratings.movieId.sample(10).values.tolist()\n",
    "    ran_recs.append(random_predictions)\n",
    "        \n",
    "test['random_predictions'] = ran_recs\n",
    "test.head()"
   ]
  },
  {
   "cell_type": "code",
   "execution_count": null,
   "metadata": {},
   "outputs": [],
   "source": []
  },
  {
   "cell_type": "code",
   "execution_count": 31,
   "metadata": {
    "collapsed": false,
    "pycharm": {
     "name": "#%%\n"
    }
   },
   "outputs": [],
   "source": [
    "actual = test.actual.values.tolist()\n",
    "cf_predictions = test.cf_predictions.values.tolist()\n",
    "pop_predictions = test.pop_predictions.values.tolist()\n",
    "random_predictions = test.random_predictions.values.tolist()"
   ]
  },
  {
   "cell_type": "code",
   "execution_count": 32,
   "metadata": {},
   "outputs": [],
   "source": [
    "#As mentioned above, actual will have different no of items transacted for each user"
   ]
  },
  {
   "cell_type": "code",
   "execution_count": 33,
   "metadata": {},
   "outputs": [
    {
     "data": {
      "text/plain": [
       "(933, 10)"
      ]
     },
     "execution_count": 33,
     "metadata": {},
     "output_type": "execute_result"
    }
   ],
   "source": [
    "len(cf_predictions), len(cf_predictions[0])"
   ]
  },
  {
   "cell_type": "code",
   "execution_count": 34,
   "metadata": {},
   "outputs": [
    {
     "data": {
      "text/plain": [
       "(933, 10)"
      ]
     },
     "execution_count": 34,
     "metadata": {},
     "output_type": "execute_result"
    }
   ],
   "source": [
    "len(pop_predictions), len(pop_predictions[0])"
   ]
  },
  {
   "cell_type": "code",
   "execution_count": 35,
   "metadata": {},
   "outputs": [
    {
     "data": {
      "text/plain": [
       "(933, 10)"
      ]
     },
     "execution_count": 35,
     "metadata": {},
     "output_type": "execute_result"
    }
   ],
   "source": [
    "len(random_predictions), len(random_predictions[0])"
   ]
  },
  {
   "cell_type": "code",
   "execution_count": null,
   "metadata": {},
   "outputs": [],
   "source": []
  },
  {
   "cell_type": "code",
   "execution_count": null,
   "metadata": {},
   "outputs": [],
   "source": []
  },
  {
   "attachments": {},
   "cell_type": "markdown",
   "metadata": {},
   "source": [
    " MAP@K gives insight into how relevant the list of recommended items are, whereas MAR@K gives insight into how well the recommender is able to recall all the items the user has rated positively in the test set"
   ]
  },
  {
   "cell_type": "markdown",
   "metadata": {
    "collapsed": false,
    "pycharm": {
     "name": "#%% md\n"
    }
   },
   "source": [
    "# Recall"
   ]
  },
  {
   "attachments": {},
   "cell_type": "markdown",
   "metadata": {},
   "source": [
    "Mean Average Recall at K (Mar@k) measures the recall at the kth recommendations. Mar@k considers the order of recommendations, and penalizes correct recommendations based on the order of the recommendations. Mar@k is ideal for evaluating an ordered list of recommendations. "
   ]
  },
  {
   "cell_type": "code",
   "execution_count": null,
   "metadata": {},
   "outputs": [],
   "source": []
  },
  {
   "cell_type": "code",
   "execution_count": 36,
   "metadata": {
    "collapsed": false,
    "pycharm": {
     "name": "#%%\n"
    }
   },
   "outputs": [
    {
     "data": {
      "text/plain": [
       "[0.0007728899154068677,\n",
       " 0.0012412620340722024,\n",
       " 0.0015784317311706398,\n",
       " 0.001898281393998366,\n",
       " 0.002185191634296431,\n",
       " 0.0024451633065336125,\n",
       " 0.0026805795599480035,\n",
       " 0.0029202516668994207,\n",
       " 0.0031529387906027704,\n",
       " 0.003377465663499973]"
      ]
     },
     "execution_count": 36,
     "metadata": {},
     "output_type": "execute_result"
    }
   ],
   "source": [
    "pop_mark = []\n",
    "for K in np.arange(1, 11):\n",
    "    pop_mark.extend([recmetrics.mark(actual, pop_predictions, k=K)])\n",
    "pop_mark"
   ]
  },
  {
   "cell_type": "code",
   "execution_count": 37,
   "metadata": {
    "collapsed": false,
    "pycharm": {
     "name": "#%%\n"
    }
   },
   "outputs": [
    {
     "data": {
      "text/plain": [
       "[0.00021687353003470617,\n",
       " 0.0003609319071576858,\n",
       " 0.00046587039817210424,\n",
       " 0.0005415091453677263,\n",
       " 0.0005918072349670159,\n",
       " 0.0006543113294611636,\n",
       " 0.0007001845129771756,\n",
       " 0.0007430951054912284,\n",
       " 0.0007812688522579885,\n",
       " 0.0008226355775863541]"
      ]
     },
     "execution_count": 37,
     "metadata": {},
     "output_type": "execute_result"
    }
   ],
   "source": [
    "random_mark = []\n",
    "for K in np.arange(1, 11):\n",
    "    random_mark.extend([recmetrics.mark(actual, random_predictions, k=K)])\n",
    "random_mark"
   ]
  },
  {
   "cell_type": "code",
   "execution_count": 38,
   "metadata": {
    "collapsed": false,
    "pycharm": {
     "name": "#%%\n"
    }
   },
   "outputs": [
    {
     "data": {
      "text/plain": [
       "[0.0030798877853085386,\n",
       " 0.006159775570617077,\n",
       " 0.009239663355925614,\n",
       " 0.012319551141234154,\n",
       " 0.015399438926542693,\n",
       " 0.018479326711851228,\n",
       " 0.021559214497159772,\n",
       " 0.02463910228246831,\n",
       " 0.027718990067776846,\n",
       " 0.030798877853085386]"
      ]
     },
     "execution_count": 38,
     "metadata": {},
     "output_type": "execute_result"
    }
   ],
   "source": [
    "cf_mark = []\n",
    "for K in np.arange(1, 11):\n",
    "    cf_mark.extend([recmetrics.mark(actual, cf_predictions, k=K)])\n",
    "cf_mark"
   ]
  },
  {
   "cell_type": "code",
   "execution_count": null,
   "metadata": {},
   "outputs": [],
   "source": []
  },
  {
   "cell_type": "markdown",
   "metadata": {
    "collapsed": false,
    "pycharm": {
     "name": "#%% md\n"
    }
   },
   "source": [
    "# Mark Plot"
   ]
  },
  {
   "cell_type": "code",
   "execution_count": 39,
   "metadata": {
    "collapsed": false,
    "pycharm": {
     "name": "#%%\n"
    }
   },
   "outputs": [
    {
     "data": {
      "image/png": "[encoded data removed]",
      "text/plain": [
       "<Figure size 1500x700 with 1 Axes>"
      ]
     },
     "metadata": {},
     "output_type": "display_data"
    }
   ],
   "source": [
    "mark_scores = [random_mark, pop_mark, cf_mark]\n",
    "index = range(1,10+1)\n",
    "names = ['Random Recommender', 'Popularity Recommender', 'Collaborative Filter']\n",
    "\n",
    "fig = plt.figure(figsize=(15, 7))\n",
    "recmetrics.mark_plot(mark_scores, model_names=names, k_range=index)"
   ]
  },
  {
   "cell_type": "code",
   "execution_count": null,
   "metadata": {},
   "outputs": [],
   "source": []
  },
  {
   "cell_type": "code",
   "execution_count": null,
   "metadata": {},
   "outputs": [],
   "source": []
  },
  {
   "cell_type": "code",
   "execution_count": null,
   "metadata": {},
   "outputs": [],
   "source": []
  },
  {
   "cell_type": "code",
   "execution_count": null,
   "metadata": {},
   "outputs": [],
   "source": []
  },
  {
   "cell_type": "code",
   "execution_count": null,
   "metadata": {},
   "outputs": [],
   "source": []
  },
  {
   "cell_type": "markdown",
   "metadata": {
    "collapsed": false,
    "pycharm": {
     "name": "#%% md\n"
    }
   },
   "source": [
    "# Prediction Coverage"
   ]
  },
  {
   "cell_type": "code",
   "execution_count": 40,
   "metadata": {},
   "outputs": [
    {
     "data": {
      "text/html": [
       "<div>\n",
       "<style scoped>\n",
       "    .dataframe tbody tr th:only-of-type {\n",
       "        vertical-align: middle;\n",
       "    }\n",
       "\n",
       "    .dataframe tbody tr th {\n",
       "        vertical-align: top;\n",
       "    }\n",
       "\n",
       "    .dataframe thead th {\n",
       "        text-align: right;\n",
       "    }\n",
       "</style>\n",
       "<table border=\"1\" class=\"dataframe\">\n",
       "  <thead>\n",
       "    <tr style=\"text-align: right;\">\n",
       "      <th></th>\n",
       "      <th>userId</th>\n",
       "      <th>movieId</th>\n",
       "      <th>rating</th>\n",
       "      <th>timestamp</th>\n",
       "    </tr>\n",
       "  </thead>\n",
       "  <tbody>\n",
       "    <tr>\n",
       "      <th>15918</th>\n",
       "      <td>156</td>\n",
       "      <td>1</td>\n",
       "      <td>5.0</td>\n",
       "      <td>1037739266</td>\n",
       "    </tr>\n",
       "    <tr>\n",
       "      <th>15919</th>\n",
       "      <td>156</td>\n",
       "      <td>2</td>\n",
       "      <td>5.0</td>\n",
       "      <td>1040937649</td>\n",
       "    </tr>\n",
       "    <tr>\n",
       "      <th>15920</th>\n",
       "      <td>156</td>\n",
       "      <td>4</td>\n",
       "      <td>3.0</td>\n",
       "      <td>1038801803</td>\n",
       "    </tr>\n",
       "    <tr>\n",
       "      <th>15921</th>\n",
       "      <td>156</td>\n",
       "      <td>5</td>\n",
       "      <td>3.0</td>\n",
       "      <td>1040944583</td>\n",
       "    </tr>\n",
       "    <tr>\n",
       "      <th>15922</th>\n",
       "      <td>156</td>\n",
       "      <td>6</td>\n",
       "      <td>4.0</td>\n",
       "      <td>1037822117</td>\n",
       "    </tr>\n",
       "    <tr>\n",
       "      <th>...</th>\n",
       "      <td>...</td>\n",
       "      <td>...</td>\n",
       "      <td>...</td>\n",
       "      <td>...</td>\n",
       "    </tr>\n",
       "    <tr>\n",
       "      <th>16469170</th>\n",
       "      <td>138325</td>\n",
       "      <td>93865</td>\n",
       "      <td>4.5</td>\n",
       "      <td>1352441167</td>\n",
       "    </tr>\n",
       "    <tr>\n",
       "      <th>16469171</th>\n",
       "      <td>138325</td>\n",
       "      <td>94896</td>\n",
       "      <td>4.0</td>\n",
       "      <td>1350349645</td>\n",
       "    </tr>\n",
       "    <tr>\n",
       "      <th>16469172</th>\n",
       "      <td>138325</td>\n",
       "      <td>96610</td>\n",
       "      <td>4.5</td>\n",
       "      <td>1350342435</td>\n",
       "    </tr>\n",
       "    <tr>\n",
       "      <th>16469173</th>\n",
       "      <td>138325</td>\n",
       "      <td>96737</td>\n",
       "      <td>4.5</td>\n",
       "      <td>1350342507</td>\n",
       "    </tr>\n",
       "    <tr>\n",
       "      <th>16469174</th>\n",
       "      <td>138325</td>\n",
       "      <td>96811</td>\n",
       "      <td>4.5</td>\n",
       "      <td>1350342238</td>\n",
       "    </tr>\n",
       "  </tbody>\n",
       "</table>\n",
       "<p>1317902 rows × 4 columns</p>\n",
       "</div>"
      ],
      "text/plain": [
       "          userId  movieId  rating   timestamp\n",
       "15918        156        1     5.0  1037739266\n",
       "15919        156        2     5.0  1040937649\n",
       "15920        156        4     3.0  1038801803\n",
       "15921        156        5     3.0  1040944583\n",
       "15922        156        6     4.0  1037822117\n",
       "...          ...      ...     ...         ...\n",
       "16469170  138325    93865     4.5  1352441167\n",
       "16469171  138325    94896     4.0  1350349645\n",
       "16469172  138325    96610     4.5  1350342435\n",
       "16469173  138325    96737     4.5  1350342507\n",
       "16469174  138325    96811     4.5  1350342238\n",
       "\n",
       "[1317902 rows x 4 columns]"
      ]
     },
     "execution_count": 40,
     "metadata": {},
     "output_type": "execute_result"
    }
   ],
   "source": [
    "ratings"
   ]
  },
  {
   "cell_type": "code",
   "execution_count": 41,
   "metadata": {
    "collapsed": false,
    "pycharm": {
     "name": "#%%\n"
    }
   },
   "outputs": [],
   "source": [
    "catalog = ratings.movieId.unique().tolist()"
   ]
  },
  {
   "cell_type": "code",
   "execution_count": 42,
   "metadata": {},
   "outputs": [
    {
     "data": {
      "text/plain": [
       "(21.28, 0.05, 2.6)"
      ]
     },
     "execution_count": 42,
     "metadata": {},
     "output_type": "execute_result"
    }
   ],
   "source": [
    "random_coverage = recmetrics.prediction_coverage(ran_recs, catalog)\n",
    "pop_coverage = recmetrics.prediction_coverage(pop_recs, catalog)\n",
    "cf_coverage = recmetrics.prediction_coverage(cf_recs, catalog)\n",
    "random_coverage,pop_coverage,cf_coverage\n"
   ]
  },
  {
   "cell_type": "code",
   "execution_count": null,
   "metadata": {},
   "outputs": [],
   "source": []
  },
  {
   "cell_type": "markdown",
   "metadata": {
    "collapsed": false,
    "pycharm": {
     "name": "#%% md\n"
    }
   },
   "source": [
    "# Catalog Coverage"
   ]
  },
  {
   "cell_type": "code",
   "execution_count": 43,
   "metadata": {
    "collapsed": false,
    "pycharm": {
     "name": "#%%\n"
    }
   },
   "outputs": [],
   "source": [
    "# N=100 observed recommendation lists (The number of observed recommendation lists which randomly choosed in our offline setup)\n",
    "\n",
    "random_cat_coverage = recmetrics.catalog_coverage(ran_recs, catalog, 100)\n",
    "pop_cat_coverage = recmetrics.catalog_coverage(pop_recs, catalog, 100)\n",
    "cf_cat_coverage = recmetrics.catalog_coverage(cf_recs, catalog, 100)"
   ]
  },
  {
   "cell_type": "code",
   "execution_count": 44,
   "metadata": {},
   "outputs": [
    {
     "data": {
      "text/plain": [
       "(3.93, 0.05, 1.12)"
      ]
     },
     "execution_count": 44,
     "metadata": {},
     "output_type": "execute_result"
    }
   ],
   "source": [
    "random_cat_coverage,pop_cat_coverage,cf_cat_coverage"
   ]
  },
  {
   "cell_type": "code",
   "execution_count": null,
   "metadata": {},
   "outputs": [],
   "source": []
  },
  {
   "cell_type": "markdown",
   "metadata": {
    "collapsed": false,
    "pycharm": {
     "name": "#%% md\n"
    }
   },
   "source": [
    "# Coverage Plot"
   ]
  },
  {
   "cell_type": "code",
   "execution_count": 45,
   "metadata": {
    "collapsed": false,
    "pycharm": {
     "name": "#%%\n"
    }
   },
   "outputs": [
    {
     "data": {
      "image/png": "[encoded data removed]",
      "text/plain": [
       "<Figure size 700x500 with 1 Axes>"
      ]
     },
     "metadata": {},
     "output_type": "display_data"
    }
   ],
   "source": [
    "# plot of prediction coverage\n",
    "coverage_scores = [random_coverage, pop_coverage, cf_coverage]\n",
    "model_names = ['Random Recommender', 'Popularity Recommender', 'Collaborative Filter']\n",
    "\n",
    "fig = plt.figure(figsize=(7, 5))\n",
    "recmetrics.coverage_plot(coverage_scores, model_names)"
   ]
  },
  {
   "cell_type": "code",
   "execution_count": null,
   "metadata": {},
   "outputs": [],
   "source": []
  },
  {
   "cell_type": "markdown",
   "metadata": {
    "collapsed": false,
    "pycharm": {
     "name": "#%% md\n"
    }
   },
   "source": [
    "# Novelty"
   ]
  },
  {
   "cell_type": "code",
   "execution_count": 46,
   "metadata": {
    "collapsed": false,
    "pycharm": {
     "name": "#%%\n"
    }
   },
   "outputs": [
    {
     "data": {
      "text/plain": [
       "{1198: 893,\n",
       " 593: 876,\n",
       " 1270: 876,\n",
       " 2762: 867,\n",
       " 318: 864,\n",
       " 2571: 863,\n",
       " 260: 859,\n",
       " 1240: 857,\n",
       " 296: 856,\n",
       " 608: 853,\n",
       " 1196: 851,\n",
       " 1265: 851,\n",
       " 50: 848,\n",
       " 2858: 842,\n",
       " 2716: 840,\n",
       " 858: 838,\n",
       " 1: 836,\n",
       " 589: 835,\n",
       " 4226: 832,\n",
       " 4993: 831,\n",
       " 1214: 828,\n",
       " 457: 827,\n",
       " 1036: 822,\n",
       " 356: 822,\n",
       " 1291: 821,\n",
       " 480: 817,\n",
       " 32: 815,\n",
       " 1097: 815,\n",
       " 1617: 814,\n",
       " 1193: 814,\n",
       " 1387: 809,\n",
       " 541: 807,\n",
       " 1704: 806,\n",
       " 47: 805,\n",
       " 1210: 801,\n",
       " 2959: 798,\n",
       " 1580: 797,\n",
       " 1961: 795,\n",
       " 1682: 794,\n",
       " 2028: 794,\n",
       " 1200: 793,\n",
       " 3578: 792,\n",
       " 592: 792,\n",
       " 527: 789,\n",
       " 5445: 788,\n",
       " 4306: 787,\n",
       " 2918: 787,\n",
       " 919: 785,\n",
       " 1213: 785,\n",
       " 3996: 784,\n",
       " 5349: 784,\n",
       " 150: 783,\n",
       " 5952: 781,\n",
       " 1258: 779,\n",
       " 2997: 778,\n",
       " 1208: 777,\n",
       " 5418: 776,\n",
       " 2291: 774,\n",
       " 1089: 774,\n",
       " 1219: 772,\n",
       " 1136: 770,\n",
       " 1259: 769,\n",
       " 377: 769,\n",
       " 4963: 768,\n",
       " 110: 762,\n",
       " 2987: 759,\n",
       " 2791: 759,\n",
       " 912: 758,\n",
       " 2797: 754,\n",
       " 2174: 752,\n",
       " 6539: 751,\n",
       " 2115: 751,\n",
       " 1221: 751,\n",
       " 1784: 748,\n",
       " 111: 747,\n",
       " 1206: 747,\n",
       " 4027: 746,\n",
       " 1222: 746,\n",
       " 1079: 746,\n",
       " 7153: 746,\n",
       " 2000: 745,\n",
       " 1968: 745,\n",
       " 3793: 744,\n",
       " 5989: 742,\n",
       " 1266: 741,\n",
       " 4995: 739,\n",
       " 1225: 739,\n",
       " 924: 737,\n",
       " 2916: 736,\n",
       " 3471: 735,\n",
       " 1197: 734,\n",
       " 4034: 734,\n",
       " 3897: 733,\n",
       " 3481: 732,\n",
       " 1923: 730,\n",
       " 4886: 730,\n",
       " 33794: 729,\n",
       " 6377: 725,\n",
       " 1393: 722,\n",
       " 904: 722,\n",
       " 7361: 721,\n",
       " 923: 721,\n",
       " 750: 717,\n",
       " 2194: 714,\n",
       " 4022: 713,\n",
       " 1527: 712,\n",
       " 3114: 711,\n",
       " 8961: 710,\n",
       " 293: 709,\n",
       " 1247: 708,\n",
       " 1732: 708,\n",
       " 1610: 708,\n",
       " 1673: 706,\n",
       " 2396: 704,\n",
       " 6874: 704,\n",
       " 1246: 704,\n",
       " 1090: 703,\n",
       " 590: 702,\n",
       " 1252: 702,\n",
       " 1954: 698,\n",
       " 1307: 698,\n",
       " 6711: 697,\n",
       " 1394: 697,\n",
       " 778: 695,\n",
       " 3147: 694,\n",
       " 2011: 693,\n",
       " 2890: 691,\n",
       " 2502: 691,\n",
       " 8636: 691,\n",
       " 1517: 690,\n",
       " 4973: 689,\n",
       " 2268: 689,\n",
       " 648: 687,\n",
       " 903: 686,\n",
       " 1653: 685,\n",
       " 3751: 683,\n",
       " 380: 682,\n",
       " 908: 682,\n",
       " 953: 681,\n",
       " 364: 681,\n",
       " 2985: 680,\n",
       " 4896: 678,\n",
       " 1080: 677,\n",
       " 2355: 676,\n",
       " 2692: 676,\n",
       " 1721: 676,\n",
       " 2640: 676,\n",
       " 6: 675,\n",
       " 1584: 675,\n",
       " 588: 674,\n",
       " 3448: 674,\n",
       " 733: 673,\n",
       " 2329: 672,\n",
       " 3408: 671,\n",
       " 1997: 671,\n",
       " 1234: 669,\n",
       " 7438: 669,\n",
       " 3994: 668,\n",
       " 2321: 666,\n",
       " 1073: 666,\n",
       " 1127: 665,\n",
       " 34: 663,\n",
       " 1625: 662,\n",
       " 6333: 660,\n",
       " 4878: 660,\n",
       " 1220: 660,\n",
       " 3081: 658,\n",
       " 1500: 658,\n",
       " 4085: 658,\n",
       " 1304: 657,\n",
       " 8665: 655,\n",
       " 223: 655,\n",
       " 3253: 653,\n",
       " 3175: 653,\n",
       " 4979: 653,\n",
       " 1674: 652,\n",
       " 2529: 652,\n",
       " 1641: 650,\n",
       " 3418: 649,\n",
       " 21: 645,\n",
       " 1278: 645,\n",
       " 474: 643,\n",
       " 1288: 643,\n",
       " 300: 642,\n",
       " 357: 641,\n",
       " 597: 641,\n",
       " 5464: 641,\n",
       " 780: 640,\n",
       " 2947: 639,\n",
       " 3948: 639,\n",
       " 1729: 638,\n",
       " 7147: 638,\n",
       " 4720: 638,\n",
       " 165: 637,\n",
       " 1333: 637,\n",
       " 6870: 636,\n",
       " 2003: 636,\n",
       " 16: 636,\n",
       " 508: 636,\n",
       " 3527: 634,\n",
       " 2302: 633,\n",
       " 595: 633,\n",
       " 539: 633,\n",
       " 5902: 632,\n",
       " 4011: 632,\n",
       " 1370: 631,\n",
       " 4361: 631,\n",
       " 235: 627,\n",
       " 1201: 626,\n",
       " 39: 626,\n",
       " 586: 624,\n",
       " 1101: 623,\n",
       " 1573: 623,\n",
       " 3052: 622,\n",
       " 5816: 622,\n",
       " 367: 622,\n",
       " 1207: 621,\n",
       " 5669: 621,\n",
       " 3176: 621,\n",
       " 8949: 619,\n",
       " 500: 619,\n",
       " 2542: 618,\n",
       " 2455: 618,\n",
       " 2406: 618,\n",
       " 253: 618,\n",
       " 48516: 617,\n",
       " 6863: 616,\n",
       " 32587: 616,\n",
       " 3499: 615,\n",
       " 3006: 615,\n",
       " 1377: 615,\n",
       " 587: 615,\n",
       " 3160: 614,\n",
       " 1358: 614,\n",
       " 1748: 612,\n",
       " 2683: 610,\n",
       " 3255: 609,\n",
       " 2353: 609,\n",
       " 3421: 609,\n",
       " 1199: 608,\n",
       " 1302: 608,\n",
       " 3039: 608,\n",
       " 2395: 608,\n",
       " 1408: 606,\n",
       " 49272: 606,\n",
       " 8798: 605,\n",
       " 2470: 603,\n",
       " 2599: 602,\n",
       " 1028: 601,\n",
       " 3671: 601,\n",
       " 1263: 600,\n",
       " 1230: 600,\n",
       " 594: 599,\n",
       " 6502: 598,\n",
       " 5060: 598,\n",
       " 8360: 597,\n",
       " 551: 597,\n",
       " 1639: 597,\n",
       " 913: 596,\n",
       " 8368: 596,\n",
       " 2012: 594,\n",
       " 2001: 593,\n",
       " 58559: 590,\n",
       " 5502: 590,\n",
       " 5377: 589,\n",
       " 454: 589,\n",
       " 4262: 588,\n",
       " 555: 588,\n",
       " 337: 588,\n",
       " 1407: 587,\n",
       " 2420: 587,\n",
       " 4370: 587,\n",
       " 1084: 587,\n",
       " 1994: 586,\n",
       " 1203: 585,\n",
       " 1466: 584,\n",
       " 8874: 584,\n",
       " 1953: 584,\n",
       " 920: 583,\n",
       " 10: 583,\n",
       " 2871: 582,\n",
       " 2700: 582,\n",
       " 2706: 582,\n",
       " 30707: 582,\n",
       " 5010: 581,\n",
       " 5266: 581,\n",
       " 1747: 579,\n",
       " 4246: 578,\n",
       " 25: 578,\n",
       " 1242: 578,\n",
       " 1204: 578,\n",
       " 1282: 578,\n",
       " 2100: 577,\n",
       " 1374: 577,\n",
       " 46578: 577,\n",
       " 1276: 577,\n",
       " 4848: 576,\n",
       " 1094: 576,\n",
       " 440: 573,\n",
       " 4776: 573,\n",
       " 2617: 573,\n",
       " 1228: 573,\n",
       " 161: 572,\n",
       " 349: 571,\n",
       " 910: 570,\n",
       " 3911: 569,\n",
       " 6947: 568,\n",
       " 1262: 568,\n",
       " 2671: 567,\n",
       " 5388: 567,\n",
       " 44191: 567,\n",
       " 6378: 567,\n",
       " 3210: 566,\n",
       " 3363: 566,\n",
       " 2628: 565,\n",
       " 6365: 564,\n",
       " 30812: 564,\n",
       " 55820: 563,\n",
       " 1250: 563,\n",
       " 1092: 563,\n",
       " 3362: 563,\n",
       " 3949: 562,\n",
       " 36: 562,\n",
       " 1345: 562,\n",
       " 4308: 561,\n",
       " 2076: 561,\n",
       " 1035: 561,\n",
       " 5995: 561,\n",
       " 2324: 561,\n",
       " 1645: 561,\n",
       " 3702: 561,\n",
       " 2081: 560,\n",
       " 1343: 560,\n",
       " 48780: 560,\n",
       " 59315: 559,\n",
       " 33166: 559,\n",
       " 3317: 559,\n",
       " 1339: 558,\n",
       " 1962: 558,\n",
       " 2294: 558,\n",
       " 2278: 556,\n",
       " 3386: 556,\n",
       " 5956: 555,\n",
       " 4002: 553,\n",
       " 1233: 550,\n",
       " 3868: 550,\n",
       " 3256: 548,\n",
       " 1380: 548,\n",
       " 2124: 547,\n",
       " 8784: 547,\n",
       " 1777: 547,\n",
       " 1396: 547,\n",
       " 48774: 545,\n",
       " 3108: 545,\n",
       " 2949: 545,\n",
       " 2391: 545,\n",
       " 316: 545,\n",
       " 2804: 545,\n",
       " 1676: 544,\n",
       " 2160: 543,\n",
       " 1285: 543,\n",
       " 4641: 543,\n",
       " 4321: 542,\n",
       " 1485: 542,\n",
       " 1267: 542,\n",
       " 48394: 541,\n",
       " 5218: 541,\n",
       " 7143: 540,\n",
       " 3101: 540,\n",
       " 1608: 539,\n",
       " 1912: 539,\n",
       " 5013: 539,\n",
       " 8464: 538,\n",
       " 2407: 538,\n",
       " 4571: 538,\n",
       " 8622: 537,\n",
       " 2289: 537,\n",
       " 3703: 536,\n",
       " 5991: 536,\n",
       " 33493: 534,\n",
       " 1249: 533,\n",
       " 4014: 533,\n",
       " 832: 533,\n",
       " 35836: 532,\n",
       " 2915: 531,\n",
       " 4007: 531,\n",
       " 2288: 531,\n",
       " 553: 531,\n",
       " 5299: 530,\n",
       " 2248: 529,\n",
       " 6708: 529,\n",
       " 4855: 529,\n",
       " 2006: 528,\n",
       " 1120: 527,\n",
       " 54286: 527,\n",
       " 1183: 526,\n",
       " 6807: 525,\n",
       " 3252: 524,\n",
       " 368: 524,\n",
       " 2336: 523,\n",
       " 5679: 523,\n",
       " 2712: 523,\n",
       " 56367: 522,\n",
       " 40819: 522,\n",
       " 1552: 522,\n",
       " 2273: 521,\n",
       " 3504: 521,\n",
       " 899: 520,\n",
       " 471: 520,\n",
       " 2020: 520,\n",
       " 11: 520,\n",
       " 2948: 520,\n",
       " 1245: 519,\n",
       " 5378: 519,\n",
       " 231: 519,\n",
       " 2539: 519,\n",
       " 3105: 518,\n",
       " 3552: 518,\n",
       " 288: 518,\n",
       " 37733: 518,\n",
       " 3535: 518,\n",
       " 353: 517,\n",
       " 1029: 517,\n",
       " 3033: 516,\n",
       " 2080: 516,\n",
       " 2018: 516,\n",
       " 1952: 515,\n",
       " 736: 515,\n",
       " 5945: 514,\n",
       " 2019: 514,\n",
       " 1129: 514,\n",
       " 1231: 513,\n",
       " 2313: 513,\n",
       " 1293: 513,\n",
       " 1391: 512,\n",
       " 6942: 512,\n",
       " 969: 512,\n",
       " 2167: 511,\n",
       " 1287: 509,\n",
       " 2058: 509,\n",
       " 60069: 509,\n",
       " 8970: 507,\n",
       " 7090: 507,\n",
       " 2005: 506,\n",
       " 292: 506,\n",
       " 4447: 506,\n",
       " 3510: 506,\n",
       " 2641: 503,\n",
       " 1960: 503,\n",
       " 3361: 502,\n",
       " 3424: 502,\n",
       " 596: 502,\n",
       " 2054: 502,\n",
       " 3967: 501,\n",
       " 6016: 501,\n",
       " 141: 501,\n",
       " 1597: 500,\n",
       " 2968: 500,\n",
       " 3148: 500,\n",
       " 2161: 500,\n",
       " 5015: 499,\n",
       " 40815: 499,\n",
       " 2763: 499,\n",
       " 50872: 497,\n",
       " 1356: 497,\n",
       " 1275: 497,\n",
       " 5618: 497,\n",
       " 1722: 496,\n",
       " 2657: 495,\n",
       " 41569: 495,\n",
       " 2144: 495,\n",
       " 1544: 495,\n",
       " 8644: 494,\n",
       " 70: 494,\n",
       " 2761: 494,\n",
       " 41997: 493,\n",
       " 1095: 493,\n",
       " 2746: 492,\n",
       " 2580: 492,\n",
       " 2: 491,\n",
       " 3753: 491,\n",
       " 6218: 490,\n",
       " 44195: 490,\n",
       " 902: 490,\n",
       " 1060: 490,\n",
       " 7373: 489,\n",
       " 1376: 489,\n",
       " 3683: 489,\n",
       " 3107: 487,\n",
       " 30749: 487,\n",
       " 4975: 486,\n",
       " 1320: 484,\n",
       " 344: 482,\n",
       " 44199: 482,\n",
       " 6979: 482,\n",
       " 2023: 480,\n",
       " 1921: 479,\n",
       " 1955: 479,\n",
       " 4128: 479,\n",
       " 3072: 478,\n",
       " 3020: 478,\n",
       " 1215: 478,\n",
       " 3168: 478,\n",
       " 1179: 477,\n",
       " 1321: 476,\n",
       " 628: 476,\n",
       " 4881: 476,\n",
       " 1663: 476,\n",
       " 2710: 476,\n",
       " 34048: 475,\n",
       " 68954: 475,\n",
       " 3755: 475,\n",
       " 509: 475,\n",
       " 3104: 474,\n",
       " 2078: 474,\n",
       " 34162: 474,\n",
       " 6787: 474,\n",
       " 2908: 474,\n",
       " 1022: 473,\n",
       " 4239: 473,\n",
       " 3623: 473,\n",
       " 46976: 473,\n",
       " 529: 472,\n",
       " 5049: 472,\n",
       " 2105: 472,\n",
       " 2085: 472,\n",
       " 2427: 472,\n",
       " 1027: 471,\n",
       " 2193: 471,\n",
       " 68358: 471,\n",
       " 1909: 470,\n",
       " 68157: 470,\n",
       " 4223: 470,\n",
       " 3809: 469,\n",
       " 2150: 469,\n",
       " 2366: 469,\n",
       " 922: 467,\n",
       " 1212: 467,\n",
       " 4499: 467,\n",
       " 34405: 467,\n",
       " 3174: 467,\n",
       " 163: 466,\n",
       " 1148: 466,\n",
       " 1272: 466,\n",
       " 47610: 465,\n",
       " 5673: 465,\n",
       " 17: 465,\n",
       " 6323: 464,\n",
       " 2728: 464,\n",
       " 1244: 464,\n",
       " 51255: 463,\n",
       " 36517: 463,\n",
       " 3556: 462,\n",
       " 1186: 462,\n",
       " 2951: 461,\n",
       " 56782: 461,\n",
       " 1982: 460,\n",
       " 2424: 460,\n",
       " 79132: 460,\n",
       " 3735: 460,\n",
       " 2109: 459,\n",
       " 4816: 459,\n",
       " 6373: 459,\n",
       " 5630: 459,\n",
       " 1805: 459,\n",
       " 1347: 459,\n",
       " 2352: 459,\n",
       " 1917: 458,\n",
       " 2243: 458,\n",
       " 2944: 457,\n",
       " 5528: 457,\n",
       " 39292: 457,\n",
       " 3624: 456,\n",
       " 2231: 456,\n",
       " 2108: 456,\n",
       " 3730: 455,\n",
       " 2087: 455,\n",
       " 6953: 453,\n",
       " 63082: 453,\n",
       " 6537: 452,\n",
       " 1271: 451,\n",
       " 3435: 451,\n",
       " 1947: 451,\n",
       " 104: 451,\n",
       " 2145: 451,\n",
       " 4865: 450,\n",
       " 1635: 450,\n",
       " 1945: 450,\n",
       " 30793: 450,\n",
       " 1350: 448,\n",
       " 1172: 448,\n",
       " 441: 448,\n",
       " 1077: 448,\n",
       " 247: 447,\n",
       " 1235: 447,\n",
       " 914: 447,\n",
       " 1088: 447,\n",
       " 431: 446,\n",
       " 4448: 446,\n",
       " 4901: 446,\n",
       " 339: 446,\n",
       " 6565: 445,\n",
       " 70286: 445,\n",
       " 2403: 444,\n",
       " 72998: 444,\n",
       " 3526: 444,\n",
       " 8529: 443,\n",
       " 2717: 443,\n",
       " 909: 443,\n",
       " 350: 443,\n",
       " 45722: 442,\n",
       " 6281: 442,\n",
       " 48385: 441,\n",
       " 1103: 441,\n",
       " 39183: 441,\n",
       " 4489: 441,\n",
       " 968: 441,\n",
       " 52973: 441,\n",
       " 2186: 441,\n",
       " 3396: 440,\n",
       " 2002: 440,\n",
       " 1375: 440,\n",
       " 2699: 440,\n",
       " 1569: 439,\n",
       " 708: 439,\n",
       " 1032: 439,\n",
       " 4874: 439,\n",
       " 4018: 439,\n",
       " 6620: 439,\n",
       " 51540: 438,\n",
       " 1254: 437,\n",
       " 8376: 437,\n",
       " 3489: 437,\n",
       " 3082: 436,\n",
       " 1292: 436,\n",
       " 1876: 436,\n",
       " 3977: 436,\n",
       " 2064: 435,\n",
       " 38061: 435,\n",
       " 5481: 435,\n",
       " 38038: 435,\n",
       " 6957: 435,\n",
       " 37741: 435,\n",
       " 2467: 435,\n",
       " 2490: 435,\n",
       " 3863: 434,\n",
       " 5954: 433,\n",
       " 497: 433,\n",
       " 1059: 432,\n",
       " 1061: 432,\n",
       " 3608: 432,\n",
       " 1283: 432,\n",
       " 45: 431,\n",
       " 2300: 431,\n",
       " 4019: 430,\n",
       " 2770: 430,\n",
       " 1086: 430,\n",
       " 3087: 429,\n",
       " 410: 429,\n",
       " 5064: 429,\n",
       " 3098: 428,\n",
       " 1357: 428,\n",
       " 2245: 428,\n",
       " 1690: 427,\n",
       " 3699: 427,\n",
       " 151: 427,\n",
       " 8958: 426,\n",
       " 41566: 426,\n",
       " 475: 425,\n",
       " 7451: 425,\n",
       " 33679: 425,\n",
       " 434: 425,\n",
       " 6440: 425,\n",
       " 62: 425,\n",
       " 3698: 424,\n",
       " 3263: 424,\n",
       " 954: 424,\n",
       " 3551: 424,\n",
       " 745: 424,\n",
       " 1884: 423,\n",
       " 6934: 423,\n",
       " 3300: 423,\n",
       " 3198: 423,\n",
       " 866: 422,\n",
       " 4326: 422,\n",
       " 1185: 422,\n",
       " 4008: 422,\n",
       " 54503: 422,\n",
       " 40583: 422,\n",
       " 1253: 421,\n",
       " 8528: 421,\n",
       " 5617: 421,\n",
       " 7254: 421,\n",
       " 51662: 421,\n",
       " 2096: 420,\n",
       " 2739: 420,\n",
       " 2795: 420,\n",
       " 3468: 419,\n",
       " 3246: 419,\n",
       " 6003: 419,\n",
       " 2134: 419,\n",
       " 933: 418,\n",
       " 7160: 418,\n",
       " 5225: 418,\n",
       " 3916: 418,\n",
       " 64614: 417,\n",
       " 2359: 416,\n",
       " 329: 416,\n",
       " 2917: 416,\n",
       " 805: 415,\n",
       " 2021: 415,\n",
       " 1967: 415,\n",
       " 3100: 414,\n",
       " 8983: 414,\n",
       " 2405: 414,\n",
       " 30810: 414,\n",
       " 1104: 414,\n",
       " 1958: 413,\n",
       " 3301: 413,\n",
       " 7458: 413,\n",
       " 49530: 412,\n",
       " 1587: 412,\n",
       " 1299: 412,\n",
       " 54997: 412,\n",
       " 6936: 412,\n",
       " 4103: 411,\n",
       " 215: 411,\n",
       " 2993: 411,\n",
       " 3000: 411,\n",
       " 1957: 409,\n",
       " 6867: 409,\n",
       " 4029: 409,\n",
       " 2501: 409,\n",
       " 69122: 408,\n",
       " 800: 408,\n",
       " 3686: 408,\n",
       " 3328: 408,\n",
       " 2371: 408,\n",
       " 2572: 408,\n",
       " 788: 408,\n",
       " 1284: 408,\n",
       " 7162: 407,\n",
       " 442: 407,\n",
       " 4327: 406,\n",
       " 80463: 406,\n",
       " 266: 406,\n",
       " 8783: 406,\n",
       " 153: 405,\n",
       " 515: 405,\n",
       " 930: 405,\n",
       " 4025: 404,\n",
       " 802: 404,\n",
       " 2872: 404,\n",
       " 4148: 404,\n",
       " 898: 403,\n",
       " 4734: 402,\n",
       " 2118: 401,\n",
       " 45499: 401,\n",
       " 54272: 401,\n",
       " 4467: 401,\n",
       " 6188: 401,\n",
       " 5872: 400,\n",
       " 7445: 400,\n",
       " 4105: 400,\n",
       " 41285: 399,\n",
       " 57669: 399,\n",
       " 1269: 399,\n",
       " 3740: 399,\n",
       " 2474: 398,\n",
       " 198: 398,\n",
       " 3827: 398,\n",
       " 55276: 397,\n",
       " 3247: 397,\n",
       " 1834: 397,\n",
       " 8981: 397,\n",
       " 55118: 396,\n",
       " 54001: 396,\n",
       " 3450: 396,\n",
       " 1248: 395,\n",
       " 926: 395,\n",
       " 3267: 394,\n",
       " 3984: 394,\n",
       " 3763: 394,\n",
       " 1093: 394,\n",
       " 3476: 394,\n",
       " 2912: 394,\n",
       " 4041: 394,\n",
       " 64839: 394,\n",
       " 33004: 394,\n",
       " 46723: 394,\n",
       " 1261: 393,\n",
       " 2803: 392,\n",
       " 2378: 392,\n",
       " 785: 391,\n",
       " 3635: 391,\n",
       " 69481: 391,\n",
       " 3869: 391,\n",
       " 1227: 391,\n",
       " 2067: 391,\n",
       " 56174: 390,\n",
       " 5459: 390,\n",
       " 3060: 390,\n",
       " 1589: 389,\n",
       " 2423: 389,\n",
       " 348: 389,\n",
       " 36529: 389,\n",
       " 33660: 389,\n",
       " 2140: 389,\n",
       " 4351: 389,\n",
       " 4121: 389,\n",
       " 2707: 388,\n",
       " 3360: 388,\n",
       " 319: 388,\n",
       " 95: 388,\n",
       " 1441: 387,\n",
       " 6659: 387,\n",
       " 180: 387,\n",
       " 6796: 386,\n",
       " 8972: 386,\n",
       " 3893: 386,\n",
       " 342: 386,\n",
       " 48738: 386,\n",
       " 4623: 386,\n",
       " 8984: 385,\n",
       " 1680: 385,\n",
       " 2991: 385,\n",
       " 37729: 385,\n",
       " 1371: 384,\n",
       " 3186: 384,\n",
       " 1810: 383,\n",
       " 1042: 382,\n",
       " 1956: 382,\n",
       " 4299: 382,\n",
       " 2065: 382,\n",
       " 3555: 381,\n",
       " 647: 381,\n",
       " 8917: 381,\n",
       " 8950: 381,\n",
       " 852: 381,\n",
       " 4903: 380,\n",
       " 1372: 380,\n",
       " 2989: 380,\n",
       " 6296: 380,\n",
       " 2398: 379,\n",
       " 2010: 379,\n",
       " 1047: 379,\n",
       " 1918: 378,\n",
       " 52: 378,\n",
       " 3704: 378,\n",
       " 61132: 378,\n",
       " 72011: 377,\n",
       " 2478: 377,\n",
       " 916: 377,\n",
       " 4235: 376,\n",
       " 2664: 376,\n",
       " 2841: 376,\n",
       " 2616: 376,\n",
       " 4280: 375,\n",
       " 2819: 375,\n",
       " 208: 375,\n",
       " 1907: 374,\n",
       " 5992: 374,\n",
       " 8361: 374,\n",
       " 2333: 374,\n",
       " 1256: 374,\n",
       " 8781: 374,\n",
       " 928: 374,\n",
       " 3044: 374,\n",
       " 1449: 373,\n",
       " 543: 373,\n",
       " 911: 373,\n",
       " 8638: 373,\n",
       " 2600: 373,\n",
       " 3152: 372,\n",
       " 4643: 372,\n",
       " 61323: 372,\n",
       " 2863: 372,\n",
       " 2966: 372,\n",
       " 3507: 372,\n",
       " 1965: 372,\n",
       " 78499: 372,\n",
       " 4890: 371,\n",
       " 1693: 371,\n",
       " 1883: 371,\n",
       " 2094: 371,\n",
       " 6385: 371,\n",
       " 44665: 371,\n",
       " 81845: 371,\n",
       " 8623: 371,\n",
       " 1950: 370,\n",
       " 3681: 370,\n",
       " 5291: 370,\n",
       " 2176: 370,\n",
       " 8641: 370,\n",
       " 246: 369,\n",
       " 82459: 369,\n",
       " 653: 369,\n",
       " 4020: 369,\n",
       " 5294: 369,\n",
       " 2973: 368,\n",
       " 1209: 368,\n",
       " 3203: 368,\n",
       " 6879: 367,\n",
       " 7293: 367,\n",
       " 185: 367,\n",
       " 1217: 366,\n",
       " 34437: 366,\n",
       " 2723: 366,\n",
       " 3798: 366,\n",
       " 2648: 366,\n",
       " 73017: 365,\n",
       " 2605: 365,\n",
       " 3037: 365,\n",
       " 45720: 364,\n",
       " 45517: 364,\n",
       " 22: 364,\n",
       " 5810: 363,\n",
       " 46530: 363,\n",
       " 4084: 363,\n",
       " 27773: 362,\n",
       " 6873: 362,\n",
       " 3505: 362,\n",
       " 68237: 362,\n",
       " 2463: 362,\n",
       " 552: 362,\n",
       " 905: 361,\n",
       " 7158: 361,\n",
       " 2232: 361,\n",
       " 4378: 361,\n",
       " 5903: 361,\n",
       " 2541: 361,\n",
       " 1223: 360,\n",
       " 2788: 360,\n",
       " 3498: 360,\n",
       " 55765: 360,\n",
       " 44555: 360,\n",
       " 372: 360,\n",
       " 4270: 359,\n",
       " 7360: 359,\n",
       " 1124: 359,\n",
       " 81591: 359,\n",
       " 3983: 359,\n",
       " 1513: 358,\n",
       " 5254: 358,\n",
       " 1260: 358,\n",
       " 4210: 358,\n",
       " 4033: 357,\n",
       " 1378: 357,\n",
       " 2409: 357,\n",
       " 74458: 357,\n",
       " 1385: 357,\n",
       " 1719: 357,\n",
       " 5400: 356,\n",
       " 2686: 356,\n",
       " 599: 356,\n",
       " 2137: 356,\n",
       " 34072: 356,\n",
       " 535: 356,\n",
       " 3019: 356,\n",
       " 951: 355,\n",
       " 3752: 355,\n",
       " 55247: 354,\n",
       " 64957: 354,\n",
       " 3639: 354,\n",
       " 3095: 354,\n",
       " 955: 354,\n",
       " 31878: 353,\n",
       " 60684: 353,\n",
       " 5812: 353,\n",
       " 2528: 353,\n",
       " 3785: 353,\n",
       " 1175: 352,\n",
       " 345: 352,\n",
       " 145: 352,\n",
       " 3088: 352,\n",
       " 4214: 352,\n",
       " 1672: 352,\n",
       " 8807: 351,\n",
       " 4344: 351,\n",
       " 45186: 351,\n",
       " 29: 351,\n",
       " 8910: 351,\n",
       " 3543: 351,\n",
       " 1711: 351,\n",
       " 784: 351,\n",
       " 6993: 350,\n",
       " 466: 350,\n",
       " 27706: 350,\n",
       " 8957: 350,\n",
       " 58: 350,\n",
       " 7149: 350,\n",
       " 47629: 349,\n",
       " 2469: 349,\n",
       " 520: 349,\n",
       " 5541: 349,\n",
       " 1188: 349,\n",
       " 1296: 349,\n",
       " 965: 348,\n",
       " 55290: 348,\n",
       " 994: 348,\n",
       " ...}"
      ]
     },
     "execution_count": 46,
     "metadata": {},
     "output_type": "execute_result"
    }
   ],
   "source": [
    "nov = ratings.movieId.value_counts()\n",
    "pop = dict(nov)\n",
    "pop"
   ]
  },
  {
   "cell_type": "code",
   "execution_count": 47,
   "metadata": {
    "collapsed": false,
    "pycharm": {
     "name": "#%%\n"
    }
   },
   "outputs": [],
   "source": [
    "random_novelty,random_mselfinfo_list = recmetrics.novelty(ran_recs, pop, len(users), 10)\n",
    "pop_novelty,pop_mselfinfo_list = recmetrics.novelty(pop_recs, pop, len(users), 10)\n",
    "cf_novelty,cf_mselfinfo_list = recmetrics.novelty(cf_recs, pop, len(users), 10)"
   ]
  },
  {
   "cell_type": "code",
   "execution_count": 48,
   "metadata": {
    "collapsed": false,
    "pycharm": {
     "name": "#%%\n"
    }
   },
   "outputs": [
    {
     "name": "stdout",
     "output_type": "stream",
     "text": [
      "2.254136821466447 0.10697151566593387 0.6871566086310928\n"
     ]
    }
   ],
   "source": [
    "print(random_novelty, pop_novelty, cf_novelty)"
   ]
  },
  {
   "cell_type": "code",
   "execution_count": null,
   "metadata": {},
   "outputs": [],
   "source": []
  },
  {
   "cell_type": "code",
   "execution_count": null,
   "metadata": {},
   "outputs": [],
   "source": []
  },
  {
   "cell_type": "markdown",
   "metadata": {
    "collapsed": false,
    "pycharm": {
     "name": "#%% md\n"
    }
   },
   "source": [
    "# Personalization"
   ]
  },
  {
   "attachments": {},
   "cell_type": "markdown",
   "metadata": {},
   "source": [
    "Personalization measures recommendation similarity across users. A high score indicates good personalization (user's lists of recommendations are different). A low score indicates poor personalization (user's lists of recommendations are very similar). A model is \"personalizing\" well if the set of recommendations for each user is different."
   ]
  },
  {
   "attachments": {},
   "cell_type": "markdown",
   "metadata": {},
   "source": [
    "Personalization is a great way to assess if a model recommends many of the same items to different users. It is the dissimilarity (1- cosine similarity) between user’s lists of recommendations."
   ]
  },
  {
   "cell_type": "code",
   "execution_count": 49,
   "metadata": {
    "collapsed": false,
    "pycharm": {
     "name": "#%%\n"
    }
   },
   "outputs": [],
   "source": [
    "example_predictions = [\n",
    "    ['1', '2', 'C', 'D'],\n",
    "    ['4', '3', 'm', 'X'],\n",
    "    ['7', 'B', 't', 'X']\n",
    "]"
   ]
  },
  {
   "cell_type": "code",
   "execution_count": 50,
   "metadata": {
    "collapsed": false,
    "pycharm": {
     "name": "#%%\n"
    }
   },
   "outputs": [
    {
     "data": {
      "text/plain": [
       "0.9166666666666666"
      ]
     },
     "execution_count": 50,
     "metadata": {},
     "output_type": "execute_result"
    }
   ],
   "source": [
    "recmetrics.personalization(predicted=example_predictions)"
   ]
  },
  {
   "cell_type": "code",
   "execution_count": 51,
   "metadata": {},
   "outputs": [],
   "source": [
    "#Exactly same predictions. So Personalization will be 0\n",
    "example_predictions = [\n",
    "    ['1', '2', 'C', 'D'],\n",
    "   ['1', '2', 'C', 'D'],\n",
    "    ['1', '2', 'C', 'D']\n",
    "]"
   ]
  },
  {
   "cell_type": "code",
   "execution_count": 52,
   "metadata": {},
   "outputs": [
    {
     "data": {
      "text/plain": [
       "0.0"
      ]
     },
     "execution_count": 52,
     "metadata": {},
     "output_type": "execute_result"
    }
   ],
   "source": [
    "recmetrics.personalization(predicted=example_predictions)"
   ]
  },
  {
   "cell_type": "code",
   "execution_count": 53,
   "metadata": {},
   "outputs": [],
   "source": [
    "#No common predictions across users, hence personalization is 1\n",
    "example_predictions = [\n",
    "    ['1', '2', 'C', 'D'],\n",
    "    ['4', '3', 'm', 'X'],\n",
    "    ['7', 'B', 't', 'Y']\n",
    "]"
   ]
  },
  {
   "cell_type": "code",
   "execution_count": 54,
   "metadata": {},
   "outputs": [
    {
     "data": {
      "text/plain": [
       "1.0"
      ]
     },
     "execution_count": 54,
     "metadata": {},
     "output_type": "execute_result"
    }
   ],
   "source": [
    "recmetrics.personalization(predicted=example_predictions)"
   ]
  },
  {
   "cell_type": "code",
   "execution_count": null,
   "metadata": {},
   "outputs": [],
   "source": []
  },
  {
   "cell_type": "markdown",
   "metadata": {
    "collapsed": false,
    "pycharm": {
     "name": "#%% md\n"
    }
   },
   "source": [
    "# Intra-list Similarity"
   ]
  },
  {
   "attachments": {},
   "cell_type": "markdown",
   "metadata": {},
   "source": [
    "Computes the average intra-list similarity of all recommendations. This metric can be used to measure diversity of the list of recommended items. "
   ]
  },
  {
   "attachments": {},
   "cell_type": "markdown",
   "metadata": {},
   "source": [
    "Intra-list similarity is the average cosine similarity of all items in a list of recommendations. This calculation uses features of the recommended items (such as movie genre) to calculate the similarity."
   ]
  },
  {
   "attachments": {},
   "cell_type": "markdown",
   "metadata": {},
   "source": [
    "Intra-list similarity can be calculated for each user, and averaged over all users in the test set to get an estimate of intra-list similarity for the model.\n"
   ]
  },
  {
   "attachments": {},
   "cell_type": "markdown",
   "metadata": {},
   "source": [
    "If a recommender system is recommending lists of very similar items to single users (for example, a user receives only recommendations of romance movies), then the intra-list similarity will be high."
   ]
  },
  {
   "cell_type": "code",
   "execution_count": 55,
   "metadata": {},
   "outputs": [
    {
     "data": {
      "text/html": [
       "<div>\n",
       "<style scoped>\n",
       "    .dataframe tbody tr th:only-of-type {\n",
       "        vertical-align: middle;\n",
       "    }\n",
       "\n",
       "    .dataframe tbody tr th {\n",
       "        vertical-align: top;\n",
       "    }\n",
       "\n",
       "    .dataframe thead th {\n",
       "        text-align: right;\n",
       "    }\n",
       "</style>\n",
       "<table border=\"1\" class=\"dataframe\">\n",
       "  <thead>\n",
       "    <tr style=\"text-align: right;\">\n",
       "      <th></th>\n",
       "      <th>(no genres listed)</th>\n",
       "      <th>Action</th>\n",
       "      <th>Adventure</th>\n",
       "      <th>Animation</th>\n",
       "      <th>Children</th>\n",
       "      <th>Comedy</th>\n",
       "      <th>Crime</th>\n",
       "      <th>Documentary</th>\n",
       "      <th>Drama</th>\n",
       "      <th>Fantasy</th>\n",
       "      <th>Film-Noir</th>\n",
       "      <th>Horror</th>\n",
       "      <th>IMAX</th>\n",
       "      <th>Musical</th>\n",
       "      <th>Mystery</th>\n",
       "      <th>Romance</th>\n",
       "      <th>Sci-Fi</th>\n",
       "      <th>Thriller</th>\n",
       "      <th>War</th>\n",
       "      <th>Western</th>\n",
       "    </tr>\n",
       "    <tr>\n",
       "      <th>movieId</th>\n",
       "      <th></th>\n",
       "      <th></th>\n",
       "      <th></th>\n",
       "      <th></th>\n",
       "      <th></th>\n",
       "      <th></th>\n",
       "      <th></th>\n",
       "      <th></th>\n",
       "      <th></th>\n",
       "      <th></th>\n",
       "      <th></th>\n",
       "      <th></th>\n",
       "      <th></th>\n",
       "      <th></th>\n",
       "      <th></th>\n",
       "      <th></th>\n",
       "      <th></th>\n",
       "      <th></th>\n",
       "      <th></th>\n",
       "      <th></th>\n",
       "    </tr>\n",
       "  </thead>\n",
       "  <tbody>\n",
       "    <tr>\n",
       "      <th>1</th>\n",
       "      <td>0</td>\n",
       "      <td>0</td>\n",
       "      <td>1</td>\n",
       "      <td>0</td>\n",
       "      <td>0</td>\n",
       "      <td>0</td>\n",
       "      <td>0</td>\n",
       "      <td>0</td>\n",
       "      <td>0</td>\n",
       "      <td>0</td>\n",
       "      <td>0</td>\n",
       "      <td>0</td>\n",
       "      <td>0</td>\n",
       "      <td>0</td>\n",
       "      <td>0</td>\n",
       "      <td>0</td>\n",
       "      <td>0</td>\n",
       "      <td>0</td>\n",
       "      <td>0</td>\n",
       "      <td>0</td>\n",
       "    </tr>\n",
       "    <tr>\n",
       "      <th>2</th>\n",
       "      <td>0</td>\n",
       "      <td>0</td>\n",
       "      <td>1</td>\n",
       "      <td>0</td>\n",
       "      <td>0</td>\n",
       "      <td>0</td>\n",
       "      <td>0</td>\n",
       "      <td>0</td>\n",
       "      <td>0</td>\n",
       "      <td>0</td>\n",
       "      <td>0</td>\n",
       "      <td>0</td>\n",
       "      <td>0</td>\n",
       "      <td>0</td>\n",
       "      <td>0</td>\n",
       "      <td>0</td>\n",
       "      <td>0</td>\n",
       "      <td>0</td>\n",
       "      <td>0</td>\n",
       "      <td>0</td>\n",
       "    </tr>\n",
       "    <tr>\n",
       "      <th>3</th>\n",
       "      <td>0</td>\n",
       "      <td>0</td>\n",
       "      <td>0</td>\n",
       "      <td>0</td>\n",
       "      <td>0</td>\n",
       "      <td>1</td>\n",
       "      <td>0</td>\n",
       "      <td>0</td>\n",
       "      <td>0</td>\n",
       "      <td>0</td>\n",
       "      <td>0</td>\n",
       "      <td>0</td>\n",
       "      <td>0</td>\n",
       "      <td>0</td>\n",
       "      <td>0</td>\n",
       "      <td>0</td>\n",
       "      <td>0</td>\n",
       "      <td>0</td>\n",
       "      <td>0</td>\n",
       "      <td>0</td>\n",
       "    </tr>\n",
       "    <tr>\n",
       "      <th>4</th>\n",
       "      <td>0</td>\n",
       "      <td>0</td>\n",
       "      <td>0</td>\n",
       "      <td>0</td>\n",
       "      <td>0</td>\n",
       "      <td>1</td>\n",
       "      <td>0</td>\n",
       "      <td>0</td>\n",
       "      <td>0</td>\n",
       "      <td>0</td>\n",
       "      <td>0</td>\n",
       "      <td>0</td>\n",
       "      <td>0</td>\n",
       "      <td>0</td>\n",
       "      <td>0</td>\n",
       "      <td>0</td>\n",
       "      <td>0</td>\n",
       "      <td>0</td>\n",
       "      <td>0</td>\n",
       "      <td>0</td>\n",
       "    </tr>\n",
       "    <tr>\n",
       "      <th>5</th>\n",
       "      <td>0</td>\n",
       "      <td>0</td>\n",
       "      <td>0</td>\n",
       "      <td>0</td>\n",
       "      <td>0</td>\n",
       "      <td>1</td>\n",
       "      <td>0</td>\n",
       "      <td>0</td>\n",
       "      <td>0</td>\n",
       "      <td>0</td>\n",
       "      <td>0</td>\n",
       "      <td>0</td>\n",
       "      <td>0</td>\n",
       "      <td>0</td>\n",
       "      <td>0</td>\n",
       "      <td>0</td>\n",
       "      <td>0</td>\n",
       "      <td>0</td>\n",
       "      <td>0</td>\n",
       "      <td>0</td>\n",
       "    </tr>\n",
       "    <tr>\n",
       "      <th>...</th>\n",
       "      <td>...</td>\n",
       "      <td>...</td>\n",
       "      <td>...</td>\n",
       "      <td>...</td>\n",
       "      <td>...</td>\n",
       "      <td>...</td>\n",
       "      <td>...</td>\n",
       "      <td>...</td>\n",
       "      <td>...</td>\n",
       "      <td>...</td>\n",
       "      <td>...</td>\n",
       "      <td>...</td>\n",
       "      <td>...</td>\n",
       "      <td>...</td>\n",
       "      <td>...</td>\n",
       "      <td>...</td>\n",
       "      <td>...</td>\n",
       "      <td>...</td>\n",
       "      <td>...</td>\n",
       "      <td>...</td>\n",
       "    </tr>\n",
       "    <tr>\n",
       "      <th>131248</th>\n",
       "      <td>0</td>\n",
       "      <td>0</td>\n",
       "      <td>1</td>\n",
       "      <td>0</td>\n",
       "      <td>0</td>\n",
       "      <td>0</td>\n",
       "      <td>0</td>\n",
       "      <td>0</td>\n",
       "      <td>0</td>\n",
       "      <td>0</td>\n",
       "      <td>0</td>\n",
       "      <td>0</td>\n",
       "      <td>0</td>\n",
       "      <td>0</td>\n",
       "      <td>0</td>\n",
       "      <td>0</td>\n",
       "      <td>0</td>\n",
       "      <td>0</td>\n",
       "      <td>0</td>\n",
       "      <td>0</td>\n",
       "    </tr>\n",
       "    <tr>\n",
       "      <th>131250</th>\n",
       "      <td>0</td>\n",
       "      <td>0</td>\n",
       "      <td>0</td>\n",
       "      <td>0</td>\n",
       "      <td>0</td>\n",
       "      <td>1</td>\n",
       "      <td>0</td>\n",
       "      <td>0</td>\n",
       "      <td>0</td>\n",
       "      <td>0</td>\n",
       "      <td>0</td>\n",
       "      <td>0</td>\n",
       "      <td>0</td>\n",
       "      <td>0</td>\n",
       "      <td>0</td>\n",
       "      <td>0</td>\n",
       "      <td>0</td>\n",
       "      <td>0</td>\n",
       "      <td>0</td>\n",
       "      <td>0</td>\n",
       "    </tr>\n",
       "    <tr>\n",
       "      <th>131252</th>\n",
       "      <td>0</td>\n",
       "      <td>0</td>\n",
       "      <td>0</td>\n",
       "      <td>0</td>\n",
       "      <td>0</td>\n",
       "      <td>1</td>\n",
       "      <td>0</td>\n",
       "      <td>0</td>\n",
       "      <td>0</td>\n",
       "      <td>0</td>\n",
       "      <td>0</td>\n",
       "      <td>0</td>\n",
       "      <td>0</td>\n",
       "      <td>0</td>\n",
       "      <td>0</td>\n",
       "      <td>0</td>\n",
       "      <td>0</td>\n",
       "      <td>0</td>\n",
       "      <td>0</td>\n",
       "      <td>0</td>\n",
       "    </tr>\n",
       "    <tr>\n",
       "      <th>131254</th>\n",
       "      <td>0</td>\n",
       "      <td>0</td>\n",
       "      <td>0</td>\n",
       "      <td>0</td>\n",
       "      <td>0</td>\n",
       "      <td>1</td>\n",
       "      <td>0</td>\n",
       "      <td>0</td>\n",
       "      <td>0</td>\n",
       "      <td>0</td>\n",
       "      <td>0</td>\n",
       "      <td>0</td>\n",
       "      <td>0</td>\n",
       "      <td>0</td>\n",
       "      <td>0</td>\n",
       "      <td>0</td>\n",
       "      <td>0</td>\n",
       "      <td>0</td>\n",
       "      <td>0</td>\n",
       "      <td>0</td>\n",
       "    </tr>\n",
       "    <tr>\n",
       "      <th>131256</th>\n",
       "      <td>0</td>\n",
       "      <td>0</td>\n",
       "      <td>0</td>\n",
       "      <td>0</td>\n",
       "      <td>0</td>\n",
       "      <td>1</td>\n",
       "      <td>0</td>\n",
       "      <td>0</td>\n",
       "      <td>0</td>\n",
       "      <td>0</td>\n",
       "      <td>0</td>\n",
       "      <td>0</td>\n",
       "      <td>0</td>\n",
       "      <td>0</td>\n",
       "      <td>0</td>\n",
       "      <td>0</td>\n",
       "      <td>0</td>\n",
       "      <td>0</td>\n",
       "      <td>0</td>\n",
       "      <td>0</td>\n",
       "    </tr>\n",
       "  </tbody>\n",
       "</table>\n",
       "<p>22016 rows × 20 columns</p>\n",
       "</div>"
      ],
      "text/plain": [
       "         (no genres listed)  Action  Adventure  Animation  Children  Comedy  \\\n",
       "movieId                                                                       \n",
       "1                         0       0          1          0         0       0   \n",
       "2                         0       0          1          0         0       0   \n",
       "3                         0       0          0          0         0       1   \n",
       "4                         0       0          0          0         0       1   \n",
       "5                         0       0          0          0         0       1   \n",
       "...                     ...     ...        ...        ...       ...     ...   \n",
       "131248                    0       0          1          0         0       0   \n",
       "131250                    0       0          0          0         0       1   \n",
       "131252                    0       0          0          0         0       1   \n",
       "131254                    0       0          0          0         0       1   \n",
       "131256                    0       0          0          0         0       1   \n",
       "\n",
       "         Crime  Documentary  Drama  Fantasy  Film-Noir  Horror  IMAX  Musical  \\\n",
       "movieId                                                                         \n",
       "1            0            0      0        0          0       0     0        0   \n",
       "2            0            0      0        0          0       0     0        0   \n",
       "3            0            0      0        0          0       0     0        0   \n",
       "4            0            0      0        0          0       0     0        0   \n",
       "5            0            0      0        0          0       0     0        0   \n",
       "...        ...          ...    ...      ...        ...     ...   ...      ...   \n",
       "131248       0            0      0        0          0       0     0        0   \n",
       "131250       0            0      0        0          0       0     0        0   \n",
       "131252       0            0      0        0          0       0     0        0   \n",
       "131254       0            0      0        0          0       0     0        0   \n",
       "131256       0            0      0        0          0       0     0        0   \n",
       "\n",
       "         Mystery  Romance  Sci-Fi  Thriller  War  Western  \n",
       "movieId                                                    \n",
       "1              0        0       0         0    0        0  \n",
       "2              0        0       0         0    0        0  \n",
       "3              0        0       0         0    0        0  \n",
       "4              0        0       0         0    0        0  \n",
       "5              0        0       0         0    0        0  \n",
       "...          ...      ...     ...       ...  ...      ...  \n",
       "131248         0        0       0         0    0        0  \n",
       "131250         0        0       0         0    0        0  \n",
       "131252         0        0       0         0    0        0  \n",
       "131254         0        0       0         0    0        0  \n",
       "131256         0        0       0         0    0        0  \n",
       "\n",
       "[22016 rows x 20 columns]"
      ]
     },
     "execution_count": 55,
     "metadata": {},
     "output_type": "execute_result"
    }
   ],
   "source": [
    "movies"
   ]
  },
  {
   "cell_type": "code",
   "execution_count": 56,
   "metadata": {
    "collapsed": false,
    "pycharm": {
     "name": "#%%\n"
    }
   },
   "outputs": [],
   "source": [
    "feature_df = movies[['Action', 'Comedy', 'Romance']]"
   ]
  },
  {
   "cell_type": "code",
   "execution_count": 57,
   "metadata": {
    "collapsed": false,
    "pycharm": {
     "name": "#%%\n"
    }
   },
   "outputs": [],
   "source": [
    "example_predictions = [\n",
    "    [3, 7, 5, 9],\n",
    "    [9, 6, 12, 623],\n",
    "    [7, 894, 6, 623]\n",
    "]"
   ]
  },
  {
   "cell_type": "code",
   "execution_count": 58,
   "metadata": {
    "collapsed": false,
    "pycharm": {
     "name": "#%%\n"
    }
   },
   "outputs": [
    {
     "data": {
      "text/plain": [
       "0.27777777777777773"
      ]
     },
     "execution_count": 58,
     "metadata": {},
     "output_type": "execute_result"
    }
   ],
   "source": [
    "recmetrics.intra_list_similarity(example_predictions, feature_df)"
   ]
  },
  {
   "cell_type": "code",
   "execution_count": null,
   "metadata": {},
   "outputs": [],
   "source": []
  },
  {
   "cell_type": "markdown",
   "metadata": {
    "collapsed": false,
    "pycharm": {
     "name": "#%% md\n"
    }
   },
   "source": [
    "# Classification Probability Plot"
   ]
  },
  {
   "attachments": {},
   "cell_type": "markdown",
   "metadata": {},
   "source": [
    "Plots the predicted class probabilities for multiple classes. Usefull for visualizing predicted interaction values such as 5 star ratings, where a \"class\" is a star rating, or visualizing predicted class probabilities for binary classification model or recommender system. The true class states are colored."
   ]
  },
  {
   "cell_type": "code",
   "execution_count": 59,
   "metadata": {
    "collapsed": false,
    "pycharm": {
     "name": "#%%\n"
    }
   },
   "outputs": [
    {
     "data": {
      "text/html": [
       "<div>\n",
       "<style scoped>\n",
       "    .dataframe tbody tr th:only-of-type {\n",
       "        vertical-align: middle;\n",
       "    }\n",
       "\n",
       "    .dataframe tbody tr th {\n",
       "        vertical-align: top;\n",
       "    }\n",
       "\n",
       "    .dataframe thead th {\n",
       "        text-align: right;\n",
       "    }\n",
       "</style>\n",
       "<table border=\"1\" class=\"dataframe\">\n",
       "  <thead>\n",
       "    <tr style=\"text-align: right;\">\n",
       "      <th></th>\n",
       "      <th>predicted</th>\n",
       "      <th>truth</th>\n",
       "    </tr>\n",
       "  </thead>\n",
       "  <tbody>\n",
       "    <tr>\n",
       "      <th>0</th>\n",
       "      <td>0.549165</td>\n",
       "      <td>1.0</td>\n",
       "    </tr>\n",
       "    <tr>\n",
       "      <th>1</th>\n",
       "      <td>0.632893</td>\n",
       "      <td>1.0</td>\n",
       "    </tr>\n",
       "    <tr>\n",
       "      <th>2</th>\n",
       "      <td>0.747577</td>\n",
       "      <td>1.0</td>\n",
       "    </tr>\n",
       "    <tr>\n",
       "      <th>3</th>\n",
       "      <td>0.660605</td>\n",
       "      <td>1.0</td>\n",
       "    </tr>\n",
       "    <tr>\n",
       "      <th>4</th>\n",
       "      <td>0.592903</td>\n",
       "      <td>1.0</td>\n",
       "    </tr>\n",
       "  </tbody>\n",
       "</table>\n",
       "</div>"
      ],
      "text/plain": [
       "   predicted  truth\n",
       "0   0.549165    1.0\n",
       "1   0.632893    1.0\n",
       "2   0.747577    1.0\n",
       "3   0.660605    1.0\n",
       "4   0.592903    1.0"
      ]
     },
     "execution_count": 59,
     "metadata": {},
     "output_type": "execute_result"
    }
   ],
   "source": [
    "#make fake classification probability data\n",
    "class_one_probs = np.random.normal(loc=.7, scale=0.1, size=1000)\n",
    "class_zero_probs = np.random.normal(loc=.3, scale=0.1, size=1000)\n",
    "actual = [1] * 1000\n",
    "class_zero_actual = [0] * 1000\n",
    "actual.extend(class_zero_actual)\n",
    "\n",
    "pred_df = pd.DataFrame([np.concatenate((class_one_probs, class_zero_probs), axis=None), actual]).T\n",
    "pred_df.columns = [\"predicted\", \"truth\"]\n",
    "pred_df.head()"
   ]
  },
  {
   "cell_type": "code",
   "execution_count": 60,
   "metadata": {},
   "outputs": [
    {
     "name": "stderr",
     "output_type": "stream",
     "text": [
      "/Users/chirag/opt/miniconda3/envs/py38x64/lib/python3.8/site-packages/seaborn/distributions.py:2619: FutureWarning: `distplot` is a deprecated function and will be removed in a future version. Please adapt your code to use either `displot` (a figure-level function with similar flexibility) or `histplot` (an axes-level function for histograms).\n",
      "  warnings.warn(msg, FutureWarning)\n",
      "/Users/chirag/opt/miniconda3/envs/py38x64/lib/python3.8/site-packages/seaborn/distributions.py:2619: FutureWarning: `distplot` is a deprecated function and will be removed in a future version. Please adapt your code to use either `displot` (a figure-level function with similar flexibility) or `histplot` (an axes-level function for histograms).\n",
      "  warnings.warn(msg, FutureWarning)\n"
     ]
    },
    {
     "data": {
      "image/png": "[encoded data removed]",
      "text/plain": [
       "<Figure size 1000x600 with 1 Axes>"
      ]
     },
     "metadata": {},
     "output_type": "display_data"
    }
   ],
   "source": [
    "recmetrics.class_separation_plot(pred_df, n_bins=45, title=\"Class Separation Plot\")"
   ]
  },
  {
   "cell_type": "code",
   "execution_count": null,
   "metadata": {},
   "outputs": [],
   "source": []
  },
  {
   "cell_type": "markdown",
   "metadata": {
    "collapsed": false,
    "pycharm": {
     "name": "#%% md\n"
    }
   },
   "source": [
    "# ROC Plot"
   ]
  },
  {
   "cell_type": "code",
   "execution_count": 61,
   "metadata": {
    "collapsed": false,
    "pycharm": {
     "name": "#%%\n"
    }
   },
   "outputs": [
    {
     "data": {
      "image/png": "[encoded data removed]",
      "text/plain": [
       "<Figure size 640x480 with 1 Axes>"
      ]
     },
     "metadata": {},
     "output_type": "display_data"
    }
   ],
   "source": [
    "model_probs = np.concatenate([np.random.normal(loc=.2, scale=0.5, size=500), np.random.normal(loc=.9, scale=0.5, size=500)])\n",
    "actual = [0] * 500\n",
    "class_zero_actual = [1] * 500\n",
    "actual.extend(class_zero_actual)\n",
    "\n",
    "recmetrics.roc_plot(actual, model_probs, model_names=\"one model\",  figsize=(10, 5))"
   ]
  },
  {
   "cell_type": "code",
   "execution_count": null,
   "metadata": {},
   "outputs": [],
   "source": []
  },
  {
   "cell_type": "markdown",
   "metadata": {
    "collapsed": false,
    "pycharm": {
     "name": "#%% md\n"
    }
   },
   "source": [
    "# Precision Recall Curve"
   ]
  },
  {
   "cell_type": "code",
   "execution_count": 62,
   "metadata": {
    "collapsed": false,
    "pycharm": {
     "name": "#%%\n"
    }
   },
   "outputs": [
    {
     "data": {
      "image/png": "[encoded data removed]",
      "text/plain": [
       "<Figure size 600x600 with 1 Axes>"
      ]
     },
     "metadata": {},
     "output_type": "display_data"
    }
   ],
   "source": [
    "recmetrics.precision_recall_plot(targs=actual, preds=model_probs)"
   ]
  },
  {
   "cell_type": "code",
   "execution_count": null,
   "metadata": {},
   "outputs": [],
   "source": []
  },
  {
   "cell_type": "markdown",
   "metadata": {
    "collapsed": false,
    "pycharm": {
     "name": "#%% md\n"
    }
   },
   "source": [
    "# Confusion Matrix"
   ]
  },
  {
   "cell_type": "code",
   "execution_count": 63,
   "metadata": {
    "collapsed": false,
    "pycharm": {
     "name": "#%%\n"
    }
   },
   "outputs": [
    {
     "data": {
      "image/png": "[encoded data removed]",
      "text/plain": [
       "<Figure size 640x480 with 1 Axes>"
      ]
     },
     "metadata": {},
     "output_type": "display_data"
    }
   ],
   "source": [
    "y_confusion_matrix = [1, 0, 0, 1, 0, 1, 0, 0, 0, 0, 1, 1, 1, 1, 0, 0, 0, 0, 0, 0, 1, 0,\n",
    "                      0, 1, 1, 1, 0, 1, 1, 1, 1, 1, 0, 0, 1, 0, 1, 0, 1, 1, 0, 0, 0, 0,\n",
    "                      1, 0, 1, 1, 0, 0, 0, 1, 1, 0, 0, 1, 0, 0, 0, 1, 0, 0, 1, 0, 1, 1,\n",
    "                      1, 0, 1, 0, 1, 0, 1, 1, 1, 0, 1, 0, 0, 0, 0, 1, 0, 1, 0, 0, 0, 1,\n",
    "                      1, 1, 1, 0, 0, 0, 0, 1, 1, 0, 1, 1]\n",
    "\n",
    "yhat_confusion_matrix = [0, 1, 0, 0, 0, 0, 1, 1, 0, 0, 1, 0, 1, 0, 1, 1, 1, 1, 0, 1, 0, 1,\n",
    "                         0, 1, 0, 1, 0, 1, 0, 0, 1, 1, 0, 0, 1, 0, 0, 1, 0, 0, 0, 1, 0, 1,\n",
    "                         1, 0, 0, 1, 0, 0, 0, 1, 0, 0, 0, 1, 0, 0, 0, 0, 0, 1, 0, 0, 1, 1,\n",
    "                         1, 1, 0, 1, 0, 1, 0, 1, 1, 1, 1, 0, 1, 0, 0, 1, 1, 1, 0, 1, 1, 0,\n",
    "                         1, 1, 0, 0, 0, 1, 0, 0, 0, 1, 1, 1]\n",
    "\n",
    "\n",
    "recmetrics.make_confusion_matrix(y=y_confusion_matrix, yhat=yhat_confusion_matrix)"
   ]
  },
  {
   "cell_type": "code",
   "execution_count": null,
   "metadata": {},
   "outputs": [],
   "source": []
  },
  {
   "cell_type": "markdown",
   "metadata": {
    "collapsed": false,
    "pycharm": {
     "name": "#%% md\n"
    }
   },
   "source": [
    "## Create Metrics Plot\n",
    "\n",
    "Plot the coverage, personalization, and intra-list similarity for a set of models to compare."
   ]
  },
  {
   "cell_type": "code",
   "execution_count": 64,
   "metadata": {
    "collapsed": false,
    "pycharm": {
     "name": "#%%\n"
    }
   },
   "outputs": [
    {
     "data": {
      "application/vnd.plotly.v1+json": {
       "config": {
        "plotlyServerURL": "https://plot.ly"
       },
       "data": [
        {
         "fill": "tonext",
         "name": "Model A",
         "r": [
          0.17,
          43,
          23
         ],
         "theta": [
          "coverage",
          "personalization",
          "intra list similarity"
         ],
         "type": "scatterpolar"
        },
        {
         "fill": "tonext",
         "name": "Model B",
         "r": [
          0.25,
          23,
          21
         ],
         "theta": [
          "coverage",
          "personalization",
          "intra list similarity"
         ],
         "type": "scatterpolar"
        },
        {
         "fill": "tonext",
         "name": "Model C",
         "r": [
          0.76,
          44,
          69
         ],
         "theta": [
          "coverage",
          "personalization",
          "intra list similarity"
         ],
         "type": "scatterpolar"
        }
       ],
       "layout": {
        "polar": {
         "radialaxis": {
          "range": [
           0,
           100
          ],
          "visible": true
         }
        },
        "showlegend": true,
        "template": {
         "data": {
          "bar": [
           {
            "error_x": {
             "color": "#2a3f5f"
            },
            "error_y": {
             "color": "#2a3f5f"
            },
            "marker": {
             "line": {
              "color": "#E5ECF6",
              "width": 0.5
             }
            },
            "type": "bar"
           }
          ],
          "barpolar": [
           {
            "marker": {
             "line": {
              "color": "#E5ECF6",
              "width": 0.5
             }
            },
            "type": "barpolar"
           }
          ],
          "carpet": [
           {
            "aaxis": {
             "endlinecolor": "#2a3f5f",
             "gridcolor": "white",
             "linecolor": "white",
             "minorgridcolor": "white",
             "startlinecolor": "#2a3f5f"
            },
            "baxis": {
             "endlinecolor": "#2a3f5f",
             "gridcolor": "white",
             "linecolor": "white",
             "minorgridcolor": "white",
             "startlinecolor": "#2a3f5f"
            },
            "type": "carpet"
           }
          ],
          "choropleth": [
           {
            "colorbar": {
             "outlinewidth": 0,
             "ticks": ""
            },
            "type": "choropleth"
           }
          ],
          "contour": [
           {
            "colorbar": {
             "outlinewidth": 0,
             "ticks": ""
            },
            "colorscale": [
             [
              0,
              "#0d0887"
             ],
             [
              0.1111111111111111,
              "#46039f"
             ],
             [
              0.2222222222222222,
              "#7201a8"
             ],
             [
              0.3333333333333333,
              "#9c179e"
             ],
             [
              0.4444444444444444,
              "#bd3786"
             ],
             [
              0.5555555555555556,
              "#d8576b"
             ],
             [
              0.6666666666666666,
              "#ed7953"
             ],
             [
              0.7777777777777778,
              "#fb9f3a"
             ],
             [
              0.8888888888888888,
              "#fdca26"
             ],
             [
              1,
              "#f0f921"
             ]
            ],
            "type": "contour"
           }
          ],
          "contourcarpet": [
           {
            "colorbar": {
             "outlinewidth": 0,
             "ticks": ""
            },
            "type": "contourcarpet"
           }
          ],
          "heatmap": [
           {
            "colorbar": {
             "outlinewidth": 0,
             "ticks": ""
            },
            "colorscale": [
             [
              0,
              "#0d0887"
             ],
             [
              0.1111111111111111,
              "#46039f"
             ],
             [
              0.2222222222222222,
              "#7201a8"
             ],
             [
              0.3333333333333333,
              "#9c179e"
             ],
             [
              0.4444444444444444,
              "#bd3786"
             ],
             [
              0.5555555555555556,
              "#d8576b"
             ],
             [
              0.6666666666666666,
              "#ed7953"
             ],
             [
              0.7777777777777778,
              "#fb9f3a"
             ],
             [
              0.8888888888888888,
              "#fdca26"
             ],
             [
              1,
              "#f0f921"
             ]
            ],
            "type": "heatmap"
           }
          ],
          "heatmapgl": [
           {
            "colorbar": {
             "outlinewidth": 0,
             "ticks": ""
            },
            "colorscale": [
             [
              0,
              "#0d0887"
             ],
             [
              0.1111111111111111,
              "#46039f"
             ],
             [
              0.2222222222222222,
              "#7201a8"
             ],
             [
              0.3333333333333333,
              "#9c179e"
             ],
             [
              0.4444444444444444,
              "#bd3786"
             ],
             [
              0.5555555555555556,
              "#d8576b"
             ],
             [
              0.6666666666666666,
              "#ed7953"
             ],
             [
              0.7777777777777778,
              "#fb9f3a"
             ],
             [
              0.8888888888888888,
              "#fdca26"
             ],
             [
              1,
              "#f0f921"
             ]
            ],
            "type": "heatmapgl"
           }
          ],
          "histogram": [
           {
            "marker": {
             "colorbar": {
              "outlinewidth": 0,
              "ticks": ""
             }
            },
            "type": "histogram"
           }
          ],
          "histogram2d": [
           {
            "colorbar": {
             "outlinewidth": 0,
             "ticks": ""
            },
            "colorscale": [
             [
              0,
              "#0d0887"
             ],
             [
              0.1111111111111111,
              "#46039f"
             ],
             [
              0.2222222222222222,
              "#7201a8"
             ],
             [
              0.3333333333333333,
              "#9c179e"
             ],
             [
              0.4444444444444444,
              "#bd3786"
             ],
             [
              0.5555555555555556,
              "#d8576b"
             ],
             [
              0.6666666666666666,
              "#ed7953"
             ],
             [
              0.7777777777777778,
              "#fb9f3a"
             ],
             [
              0.8888888888888888,
              "#fdca26"
             ],
             [
              1,
              "#f0f921"
             ]
            ],
            "type": "histogram2d"
           }
          ],
          "histogram2dcontour": [
           {
            "colorbar": {
             "outlinewidth": 0,
             "ticks": ""
            },
            "colorscale": [
             [
              0,
              "#0d0887"
             ],
             [
              0.1111111111111111,
              "#46039f"
             ],
             [
              0.2222222222222222,
              "#7201a8"
             ],
             [
              0.3333333333333333,
              "#9c179e"
             ],
             [
              0.4444444444444444,
              "#bd3786"
             ],
             [
              0.5555555555555556,
              "#d8576b"
             ],
             [
              0.6666666666666666,
              "#ed7953"
             ],
             [
              0.7777777777777778,
              "#fb9f3a"
             ],
             [
              0.8888888888888888,
              "#fdca26"
             ],
             [
              1,
              "#f0f921"
             ]
            ],
            "type": "histogram2dcontour"
           }
          ],
          "mesh3d": [
           {
            "colorbar": {
             "outlinewidth": 0,
             "ticks": ""
            },
            "type": "mesh3d"
           }
          ],
          "parcoords": [
           {
            "line": {
             "colorbar": {
              "outlinewidth": 0,
              "ticks": ""
             }
            },
            "type": "parcoords"
           }
          ],
          "pie": [
           {
            "automargin": true,
            "type": "pie"
           }
          ],
          "scatter": [
           {
            "marker": {
             "colorbar": {
              "outlinewidth": 0,
              "ticks": ""
             }
            },
            "type": "scatter"
           }
          ],
          "scatter3d": [
           {
            "line": {
             "colorbar": {
              "outlinewidth": 0,
              "ticks": ""
             }
            },
            "marker": {
             "colorbar": {
              "outlinewidth": 0,
              "ticks": ""
             }
            },
            "type": "scatter3d"
           }
          ],
          "scattercarpet": [
           {
            "marker": {
             "colorbar": {
              "outlinewidth": 0,
              "ticks": ""
             }
            },
            "type": "scattercarpet"
           }
          ],
          "scattergeo": [
           {
            "marker": {
             "colorbar": {
              "outlinewidth": 0,
              "ticks": ""
             }
            },
            "type": "scattergeo"
           }
          ],
          "scattergl": [
           {
            "marker": {
             "colorbar": {
              "outlinewidth": 0,
              "ticks": ""
             }
            },
            "type": "scattergl"
           }
          ],
          "scattermapbox": [
           {
            "marker": {
             "colorbar": {
              "outlinewidth": 0,
              "ticks": ""
             }
            },
            "type": "scattermapbox"
           }
          ],
          "scatterpolar": [
           {
            "marker": {
             "colorbar": {
              "outlinewidth": 0,
              "ticks": ""
             }
            },
            "type": "scatterpolar"
           }
          ],
          "scatterpolargl": [
           {
            "marker": {
             "colorbar": {
              "outlinewidth": 0,
              "ticks": ""
             }
            },
            "type": "scatterpolargl"
           }
          ],
          "scatterternary": [
           {
            "marker": {
             "colorbar": {
              "outlinewidth": 0,
              "ticks": ""
             }
            },
            "type": "scatterternary"
           }
          ],
          "surface": [
           {
            "colorbar": {
             "outlinewidth": 0,
             "ticks": ""
            },
            "colorscale": [
             [
              0,
              "#0d0887"
             ],
             [
              0.1111111111111111,
              "#46039f"
             ],
             [
              0.2222222222222222,
              "#7201a8"
             ],
             [
              0.3333333333333333,
              "#9c179e"
             ],
             [
              0.4444444444444444,
              "#bd3786"
             ],
             [
              0.5555555555555556,
              "#d8576b"
             ],
             [
              0.6666666666666666,
              "#ed7953"
             ],
             [
              0.7777777777777778,
              "#fb9f3a"
             ],
             [
              0.8888888888888888,
              "#fdca26"
             ],
             [
              1,
              "#f0f921"
             ]
            ],
            "type": "surface"
           }
          ],
          "table": [
           {
            "cells": {
             "fill": {
              "color": "#EBF0F8"
             },
             "line": {
              "color": "white"
             }
            },
            "header": {
             "fill": {
              "color": "#C8D4E3"
             },
             "line": {
              "color": "white"
             }
            },
            "type": "table"
           }
          ]
         },
         "layout": {
          "annotationdefaults": {
           "arrowcolor": "#2a3f5f",
           "arrowhead": 0,
           "arrowwidth": 1
          },
          "autotypenumbers": "strict",
          "coloraxis": {
           "colorbar": {
            "outlinewidth": 0,
            "ticks": ""
           }
          },
          "colorscale": {
           "diverging": [
            [
             0,
             "#8e0152"
            ],
            [
             0.1,
             "#c51b7d"
            ],
            [
             0.2,
             "#de77ae"
            ],
            [
             0.3,
             "#f1b6da"
            ],
            [
             0.4,
             "#fde0ef"
            ],
            [
             0.5,
             "#f7f7f7"
            ],
            [
             0.6,
             "#e6f5d0"
            ],
            [
             0.7,
             "#b8e186"
            ],
            [
             0.8,
             "#7fbc41"
            ],
            [
             0.9,
             "#4d9221"
            ],
            [
             1,
             "#276419"
            ]
           ],
           "sequential": [
            [
             0,
             "#0d0887"
            ],
            [
             0.1111111111111111,
             "#46039f"
            ],
            [
             0.2222222222222222,
             "#7201a8"
            ],
            [
             0.3333333333333333,
             "#9c179e"
            ],
            [
             0.4444444444444444,
             "#bd3786"
            ],
            [
             0.5555555555555556,
             "#d8576b"
            ],
            [
             0.6666666666666666,
             "#ed7953"
            ],
            [
             0.7777777777777778,
             "#fb9f3a"
            ],
            [
             0.8888888888888888,
             "#fdca26"
            ],
            [
             1,
             "#f0f921"
            ]
           ],
           "sequentialminus": [
            [
             0,
             "#0d0887"
            ],
            [
             0.1111111111111111,
             "#46039f"
            ],
            [
             0.2222222222222222,
             "#7201a8"
            ],
            [
             0.3333333333333333,
             "#9c179e"
            ],
            [
             0.4444444444444444,
             "#bd3786"
            ],
            [
             0.5555555555555556,
             "#d8576b"
            ],
            [
             0.6666666666666666,
             "#ed7953"
            ],
            [
             0.7777777777777778,
             "#fb9f3a"
            ],
            [
             0.8888888888888888,
             "#fdca26"
            ],
            [
             1,
             "#f0f921"
            ]
           ]
          },
          "colorway": [
           "#636efa",
           "#EF553B",
           "#00cc96",
           "#ab63fa",
           "#FFA15A",
           "#19d3f3",
           "#FF6692",
           "#B6E880",
           "#FF97FF",
           "#FECB52"
          ],
          "font": {
           "color": "#2a3f5f"
          },
          "geo": {
           "bgcolor": "white",
           "lakecolor": "white",
           "landcolor": "#E5ECF6",
           "showlakes": true,
           "showland": true,
           "subunitcolor": "white"
          },
          "hoverlabel": {
           "align": "left"
          },
          "hovermode": "closest",
          "mapbox": {
           "style": "light"
          },
          "paper_bgcolor": "white",
          "plot_bgcolor": "#E5ECF6",
          "polar": {
           "angularaxis": {
            "gridcolor": "white",
            "linecolor": "white",
            "ticks": ""
           },
           "bgcolor": "#E5ECF6",
           "radialaxis": {
            "gridcolor": "white",
            "linecolor": "white",
            "ticks": ""
           }
          },
          "scene": {
           "xaxis": {
            "backgroundcolor": "#E5ECF6",
            "gridcolor": "white",
            "gridwidth": 2,
            "linecolor": "white",
            "showbackground": true,
            "ticks": "",
            "zerolinecolor": "white"
           },
           "yaxis": {
            "backgroundcolor": "#E5ECF6",
            "gridcolor": "white",
            "gridwidth": 2,
            "linecolor": "white",
            "showbackground": true,
            "ticks": "",
            "zerolinecolor": "white"
           },
           "zaxis": {
            "backgroundcolor": "#E5ECF6",
            "gridcolor": "white",
            "gridwidth": 2,
            "linecolor": "white",
            "showbackground": true,
            "ticks": "",
            "zerolinecolor": "white"
           }
          },
          "shapedefaults": {
           "line": {
            "color": "#2a3f5f"
           }
          },
          "ternary": {
           "aaxis": {
            "gridcolor": "white",
            "linecolor": "white",
            "ticks": ""
           },
           "baxis": {
            "gridcolor": "white",
            "linecolor": "white",
            "ticks": ""
           },
           "bgcolor": "#E5ECF6",
           "caxis": {
            "gridcolor": "white",
            "linecolor": "white",
            "ticks": ""
           }
          },
          "title": {
           "x": 0.05
          },
          "xaxis": {
           "automargin": true,
           "gridcolor": "white",
           "linecolor": "white",
           "ticks": "",
           "title": {
            "standoff": 15
           },
           "zerolinecolor": "white",
           "zerolinewidth": 2
          },
          "yaxis": {
           "automargin": true,
           "gridcolor": "white",
           "linecolor": "white",
           "ticks": "",
           "title": {
            "standoff": 15
           },
           "zerolinecolor": "white",
           "zerolinewidth": 2
          }
         }
        }
       }
      }
     },
     "metadata": {},
     "output_type": "display_data"
    }
   ],
   "source": [
    "recmetrics.metrics_plot(model_names=['Model A', 'Model B', 'Model C'],\n",
    "             coverage_scores=[0.17, 0.25, 0.76],\n",
    "             personalization_scores=[0.43, 0.23, 0.44],\n",
    "             intra_list_similarity_scores = [0.23, 0.21, 0.69])"
   ]
  },
  {
   "cell_type": "code",
   "execution_count": null,
   "metadata": {
    "collapsed": false,
    "pycharm": {
     "name": "#%%\n"
    }
   },
   "outputs": [],
   "source": []
  },
  {
   "cell_type": "code",
   "execution_count": null,
   "metadata": {},
   "outputs": [],
   "source": []
  },
  {
   "attachments": {},
   "cell_type": "markdown",
   "metadata": {},
   "source": [
    "### Using the right training data\n",
    "\n",
    "There are a few things that can be done to the training data that could quickly improve a recommender system.\n",
    "\n",
    "1.Remove popular items from the training data. (This is appropriate in cases where users can discover these items on their own, and may not find these recommendations useful).\n",
    "\n",
    "2.Scale item ratings by the user’s value, such as average transaction value. This can help a model learn to recommend items that lead to loyal or high-value customers.\n"
   ]
  },
  {
   "cell_type": "code",
   "execution_count": null,
   "metadata": {},
   "outputs": [],
   "source": []
  },
  {
   "attachments": {},
   "cell_type": "markdown",
   "metadata": {},
   "source": [
    "### Conclusion\n",
    "A great recommender system makes both relevant and useful recommendations. Using a combination of multiple evaluation metrics, we can start to assess the performance of a model by more than just relevancy. "
   ]
  },
  {
   "cell_type": "code",
   "execution_count": null,
   "metadata": {},
   "outputs": [],
   "source": []
  }
 ],
 "metadata": {
  "kernelspec": {
   "display_name": "Python 3",
   "language": "python",
   "name": "python3"
  },
  "language_info": {
   "codemirror_mode": {
    "name": "ipython",
    "version": 3
   },
   "file_extension": ".py",
   "mimetype": "text/x-python",
   "name": "python",
   "nbconvert_exporter": "python",
   "pygments_lexer": "ipython3",
   "version": "3.8.15"
  },
  "toc": {
   "colors": {
    "hover_highlight": "#DAA520",
    "navigate_num": "#000000",
    "navigate_text": "#333333",
    "running_highlight": "#FF0000",
    "selected_highlight": "#FFD700",
    "sidebar_border": "#EEEEEE",
    "wrapper_background": "#FFFFFF"
   },
   "moveMenuLeft": true,
   "nav_menu": {
    "height": "171px",
    "width": "252px"
   },
   "navigate_menu": true,
   "number_sections": true,
   "sideBar": true,
   "skip_h1_title": false,
   "threshold": 4,
   "toc_cell": false,
   "toc_section_display": "block",
   "toc_window_display": false,
   "widenNotebook": false
  },
  "vscode": {
   "interpreter": {
    "hash": "04c8fc554d422d6a1d14c04c415a1ade8391b1a71b74f13f4a73c8d1d438c824"
   }
  }
 },
 "nbformat": 4,
 "nbformat_minor": 4
}
